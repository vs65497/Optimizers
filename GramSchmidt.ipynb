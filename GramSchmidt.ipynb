{
  "nbformat": 4,
  "nbformat_minor": 0,
  "metadata": {
    "colab": {
      "name": "GramSchmidt.ipynb",
      "provenance": [],
      "toc_visible": true,
      "authorship_tag": "ABX9TyOTJbrC/e6D+HfBIPANAywq",
      "include_colab_link": true
    },
    "kernelspec": {
      "name": "python3",
      "display_name": "Python 3"
    },
    "language_info": {
      "name": "python"
    }
  },
  "cells": [
    {
      "cell_type": "markdown",
      "metadata": {
        "id": "view-in-github",
        "colab_type": "text"
      },
      "source": [
        "<a href=\"https://colab.research.google.com/github/zanzivyr/Optimizers/blob/main/GramSchmidt.ipynb\" target=\"_parent\"><img src=\"https://colab.research.google.com/assets/colab-badge.svg\" alt=\"Open In Colab\"/></a>"
      ]
    },
    {
      "cell_type": "markdown",
      "source": [
        "# Gram-Schmidt Orthagonalization\n",
        "\n",
        "Part of Schur Decomposition is performing Gram-Schmidt Orthogonalization.\n",
        "\n",
        "This is an essential part of Linear Algebra, so writing this code in python will be very useful in the future."
      ],
      "metadata": {
        "id": "1xT2d9Y16DEd"
      }
    },
    {
      "cell_type": "markdown",
      "source": [
        "# Resources\n",
        "\n",
        "- Dan Gries - https://youtu.be/KOkuTXrv5Gg\n",
        "- Wikipedia - https://en.wikipedia.org/wiki/Gram%E2%80%93Schmidt_process"
      ],
      "metadata": {
        "id": "h2uNgQb88bOw"
      }
    },
    {
      "cell_type": "code",
      "source": [
        "import numpy as np\n",
        "import matplotlib.pyplot as plt\n",
        "import tensorflow as tf\n",
        "from numpy import linalg as LA"
      ],
      "metadata": {
        "id": "EXUEGB1L7cSL"
      },
      "execution_count": 83,
      "outputs": []
    },
    {
      "cell_type": "markdown",
      "source": [
        "# Instantiate\n",
        "\n",
        "Create test vectors to be orthogonalized!"
      ],
      "metadata": {
        "id": "muJ_tSkVMSFO"
      }
    },
    {
      "cell_type": "code",
      "source": [
        "size = 3\n",
        "vectors = 3\n",
        "\n",
        "vset = tf.random.uniform(shape=[vectors,size], maxval=10, dtype=tf.float32)\n",
        "vset.numpy()"
      ],
      "metadata": {
        "id": "jlO2A0VZ7taY",
        "colab": {
          "base_uri": "https://localhost:8080/"
        },
        "outputId": "7d45345e-82bc-4e98-989b-109600af66f7"
      },
      "execution_count": 84,
      "outputs": [
        {
          "output_type": "execute_result",
          "data": {
            "text/plain": [
              "array([[1.4213991, 8.486845 , 0.8668721],\n",
              "       [8.5801525, 6.0056663, 1.4359641],\n",
              "       [0.5509186, 7.0621085, 2.6476264]], dtype=float32)"
            ]
          },
          "metadata": {},
          "execution_count": 84
        }
      ]
    },
    {
      "cell_type": "markdown",
      "source": [
        "# Process\n",
        "\n",
        "Perform the Gram-Schmidt process to create a orthogonal basis."
      ],
      "metadata": {
        "id": "TENLO_VsMZXJ"
      }
    },
    {
      "cell_type": "code",
      "source": [
        "basis = vset[0]\n",
        "\n",
        "for v in range(1, vectors):\n",
        "  vec = vset[v]\n",
        "\n",
        "  sum = 0\n",
        "  for u in range(1, v+1):\n",
        "    uvec = vset[u]\n",
        "    sum += np.dot((np.dot(uvec, vec) / np.dot(uvec, uvec)), uvec)\n",
        "\n",
        "  b = vec - sum\n",
        "  basis = tf.concat([basis, b], 0)\n",
        "\n",
        "basis = tf.reshape(basis, (vectors,size), name=None)\n",
        "basis"
      ],
      "metadata": {
        "colab": {
          "base_uri": "https://localhost:8080/"
        },
        "id": "Ee30yfSW9Sfo",
        "outputId": "0f5b9159-353c-4145-d5b7-cf2d50239600"
      },
      "execution_count": 85,
      "outputs": [
        {
          "output_type": "execute_result",
          "data": {
            "text/plain": [
              "<tf.Tensor: shape=(3, 3), dtype=float32, numpy=\n",
              "array([[ 1.4213991,  8.486845 ,  0.8668721],\n",
              "       [ 0.       ,  0.       ,  0.       ],\n",
              "       [-3.9113188, -2.737722 , -0.6545937]], dtype=float32)>"
            ]
          },
          "metadata": {},
          "execution_count": 85
        }
      ]
    },
    {
      "cell_type": "markdown",
      "source": [
        "## Normalize\n",
        "\n",
        "Divide each vector by its L2 norm to create an orthonormal basis set."
      ],
      "metadata": {
        "id": "S59gfsPwMiAj"
      }
    },
    {
      "cell_type": "code",
      "source": [
        "ortho = 0\n",
        "\n",
        "if LA.norm(basis[0]) != 0:\n",
        "  ortho = tf.math.multiply(basis[0], 1/LA.norm(basis[0]))\n",
        "else:\n",
        "  ortho = tf.zeros(size, dtype=tf.float32)\n",
        "\n",
        "for v in range(1, vectors):\n",
        "  if LA.norm(basis[v]) != 0:\n",
        "    o = tf.math.multiply(basis[v], 1/LA.norm(basis[v]))\n",
        "  else:\n",
        "    o = tf.zeros(size, dtype=tf.float32)\n",
        "    \n",
        "  ortho = tf.concat([ortho, o], 0)\n",
        "\n",
        "ortho = tf.reshape(ortho, (vectors,size), name=None)\n",
        "ortho"
      ],
      "metadata": {
        "colab": {
          "base_uri": "https://localhost:8080/"
        },
        "id": "NqE2zP5F_I0a",
        "outputId": "b9519616-83dc-4e55-fe34-d31156e4cf46"
      },
      "execution_count": 86,
      "outputs": [
        {
          "output_type": "execute_result",
          "data": {
            "text/plain": [
              "<tf.Tensor: shape=(3, 3), dtype=float32, numpy=\n",
              "array([[ 0.1643501 ,  0.9812964 ,  0.10023259],\n",
              "       [ 0.        ,  0.        ,  0.        ],\n",
              "       [-0.81165814, -0.56811893, -0.13583815]], dtype=float32)>"
            ]
          },
          "metadata": {},
          "execution_count": 86
        }
      ]
    },
    {
      "cell_type": "code",
      "source": [
        ""
      ],
      "metadata": {
        "id": "X94L3qCmHIDt"
      },
      "execution_count": 86,
      "outputs": []
    }
  ]
}
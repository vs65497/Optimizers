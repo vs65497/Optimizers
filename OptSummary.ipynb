{
  "nbformat": 4,
  "nbformat_minor": 0,
  "metadata": {
    "colab": {
      "name": "OptSummary.ipynb",
      "provenance": [],
      "toc_visible": true,
      "authorship_tag": "ABX9TyNweH1RHnl+k5h2vg4WVY7Z"
    },
    "kernelspec": {
      "name": "python3",
      "display_name": "Python 3"
    },
    "language_info": {
      "name": "python"
    }
  },
  "cells": [
    {
      "cell_type": "markdown",
      "source": [
        "# Optimization Studies\n",
        "\n",
        "Control and decision making are important subjects in Robotics which allow for more complex interactions with the environment. Underneath the hood, optimization algorithms are used to guide the robot. As such, this summer I devoted time to experimenting with topics in Control Theory, Convex Optimization, Machine Learning, and Reinforcement Learning. These will help give some foundation for studying advanced topics in Robotics.\n",
        "\n",
        "### Topics Covered:\n",
        "\n",
        "- [Linear Regression](https://github.com/zanzivyr/Optimizers/blob/main/LinearRegression.ipynb)\n",
        "- [Linear Programming](https://github.com/zanzivyr/Optimizers/blob/main/LP.ipynb)\n",
        "- [Quadratic Programming](https://github.com/zanzivyr/Optimizers/blob/main/QP.ipynb)\n",
        "- [Gram Schmidt Process](https://github.com/zanzivyr/Optimizers/blob/main/GramSchmidt.ipynb)\n",
        "- [Schur Decomposition](https://github.com/zanzivyr/Optimizers/blob/main/GramSchmidt.ipynb)\n",
        "- [(Forward-mode) Automatic Differentiation](https://github.com/zanzivyr/Optimizers/blob/main/AutoDiff.ipynb)\n",
        "- [(Continuous) Algebraic Riccati Equation](https://github.com/zanzivyr/Optimizers/blob/main/AlgebraicRiccatiEquation.ipynb)\n",
        "- [Reinforcement Learning](https://github.com/zanzivyr/Optimizers/blob/main/FrozenLake.ipynb)\n",
        "\n",
        "**Others**: *Semidefinite Programming & Sum-of-Squares Optimization, S-Procedure*\n",
        "\n",
        "**Technologies**: Tensorflow, Numpy, Matplotlib, Google Colab / Jupyter Notebook"
      ],
      "metadata": {
        "id": "p-AopnAlgD80"
      }
    },
    {
      "cell_type": "markdown",
      "source": [
        "(Details below)"
      ],
      "metadata": {
        "id": "QIm1Vvn0nE1F"
      }
    },
    {
      "cell_type": "markdown",
      "source": [
        "--------------"
      ],
      "metadata": {
        "id": "YUKXrQAe84lo"
      }
    },
    {
      "cell_type": "markdown",
      "source": [
        "##Linear Regression\n",
        "  - *Least Squares Linear Regression*\n",
        "  - *Gradient Descent*\n",
        "  - Colab: https://github.com/zanzivyr/Optimizers/blob/main/LinearRegression.ipynb"
      ],
      "metadata": {
        "id": "UMY6dPUNhmjx"
      }
    },
    {
      "cell_type": "markdown",
      "source": [
        "##Linear Programming\n",
        "  - *Simplex Method*\n",
        "  - Colab: https://github.com/zanzivyr/Optimizers/blob/main/LP.ipynb"
      ],
      "metadata": {
        "id": "j0HrcHMakBxf"
      }
    },
    {
      "cell_type": "markdown",
      "source": [
        "##Quadratic Programming\n",
        "  - *Sequential Quadratic Programming*\n",
        "  - *Newton's Method*\n",
        "  - Colab: https://github.com/zanzivyr/Optimizers/blob/main/QP.ipynb"
      ],
      "metadata": {
        "id": "LDcl25kcmjrr"
      }
    },
    {
      "cell_type": "markdown",
      "source": [
        "##Gram Schmidt Process\n",
        "  - Colab: https://github.com/zanzivyr/Optimizers/blob/main/GramSchmidt.ipynb"
      ],
      "metadata": {
        "id": "CReE2rSumneB"
      }
    },
    {
      "cell_type": "markdown",
      "source": [
        "##Schur Decomposition\n",
        "  - Colab: https://github.com/zanzivyr/Optimizers/blob/main/GramSchmidt.ipynb"
      ],
      "metadata": {
        "id": "eij6GY4umqGi"
      }
    },
    {
      "cell_type": "markdown",
      "source": [
        "##Automatic Differentiation\n",
        "  - *Forward-mode Autodiff*\n",
        "  - Colab: https://github.com/zanzivyr/Optimizers/blob/main/AutoDiff.ipynb"
      ],
      "metadata": {
        "id": "1R6zVbirmsdI"
      }
    },
    {
      "cell_type": "markdown",
      "source": [
        "##Continuous Algebraic Riccati Equation (CARE)\n",
        "  - *Hamiltonian Matrix / Schur Method*\n",
        "  - Colab: https://github.com/zanzivyr/Optimizers/blob/main/AlgebraicRiccatiEquation.ipynb"
      ],
      "metadata": {
        "id": "FrW3okwxmurD"
      }
    },
    {
      "cell_type": "markdown",
      "source": [
        "##Reinforcement Learning\n",
        "  - *Frozen Lake*\n",
        "  - *Markov Descision Process (MDP)*\n",
        "  - *Q-Learning*\n",
        "  - Colab: https://github.com/zanzivyr/Optimizers/blob/main/FrozenLake.ipynb"
      ],
      "metadata": {
        "id": "UiAIe-J1mxiF"
      }
    },
    {
      "cell_type": "markdown",
      "source": [
        "---------------------\n",
        "\n"
      ],
      "metadata": {
        "id": "uhyiwf3PnXNZ"
      }
    },
    {
      "cell_type": "markdown",
      "source": [
        "# Others\n",
        "\n",
        "I also investigated SDP's with the help of these resources:\n",
        "\n",
        "- Semidefinite Programming & Sums-of-Squares\n",
        "  - Underactuated Robotics, Ch. 23: https://underactuated.mit.edu/optimization.html#section3\n",
        "  - Underactuated Robotics, Deepnote Notebook: https://deepnote.com/workspace/Underactuated-2ed1518a-973b-4145-bd62-1768b49956a8/project/App-C-Optimization-and-Mathematical-Programming-4266eff1-41ee-434a-aa62-0f5a1243ecd2/%2Foptimization.ipynb\n",
        "- S-procedure\n",
        "  - Convex Optimization, Boyd and Vandenberghe, Appendix B (Pages 653-658)\n",
        "\n"
      ],
      "metadata": {
        "id": "ZfEV2XCLngYg"
      }
    }
  ]
}
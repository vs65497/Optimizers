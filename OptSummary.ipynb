{
  "nbformat": 4,
  "nbformat_minor": 0,
  "metadata": {
    "colab": {
      "name": "OptSummary.ipynb",
      "provenance": [],
      "toc_visible": true,
      "authorship_tag": "ABX9TyM280kJxnvmwmcL3z7NbJ+E",
      "include_colab_link": true
    },
    "kernelspec": {
      "name": "python3",
      "display_name": "Python 3"
    },
    "language_info": {
      "name": "python"
    }
  },
  "cells": [
    {
      "cell_type": "markdown",
      "metadata": {
        "id": "view-in-github",
        "colab_type": "text"
      },
      "source": [
        "<a href=\"https://colab.research.google.com/github/zanzivyr/Optimizers/blob/main/OptSummary.ipynb\" target=\"_parent\"><img src=\"https://colab.research.google.com/assets/colab-badge.svg\" alt=\"Open In Colab\"/></a>"
      ]
    },
    {
      "cell_type": "markdown",
      "source": [
        "# Optimization Studies\n",
        "\n",
        "The following are a collection of solvers I have written as a study on Convex Optimization, Control Theory, ML, and RL.\n",
        "\n",
        "Each study is not a complete or in-depth look at its topic, but has been done in a way to give some amount of intuition.\n",
        "\n",
        "I study these topics in an effort to develop myself as a roboticist."
      ],
      "metadata": {
        "id": "p-AopnAlgD80"
      }
    },
    {
      "cell_type": "markdown",
      "source": [
        "**Technologies**: Tensorflow, Numpy, Matplotlib, Google Colab / Jupyter Notebook"
      ],
      "metadata": {
        "id": "QIm1Vvn0nE1F"
      }
    },
    {
      "cell_type": "markdown",
      "source": [
        "##Linear Regression\n",
        "  - *Least Squares Linear Regression*\n",
        "  - *Gradient Descent*\n",
        "  - Colab: https://github.com/zanzivyr/Optimizers/blob/main/LinearRegression.ipynb"
      ],
      "metadata": {
        "id": "UMY6dPUNhmjx"
      }
    },
    {
      "cell_type": "markdown",
      "source": [
        "##Linear Programming\n",
        "  - *Simplex Method*\n",
        "  - Colab: https://github.com/zanzivyr/Optimizers/blob/main/LP.ipynb"
      ],
      "metadata": {
        "id": "j0HrcHMakBxf"
      }
    },
    {
      "cell_type": "markdown",
      "source": [
        "##Quadratic Programming\n",
        "  - *Sequential Quadratic Programming*\n",
        "  - *Newton's Method*\n",
        "  - Colab: https://github.com/zanzivyr/Optimizers/blob/main/QP.ipynb"
      ],
      "metadata": {
        "id": "LDcl25kcmjrr"
      }
    },
    {
      "cell_type": "markdown",
      "source": [
        "##Gram Schmidt Process\n",
        "  - Colab: https://github.com/zanzivyr/Optimizers/blob/main/GramSchmidt.ipynb"
      ],
      "metadata": {
        "id": "CReE2rSumneB"
      }
    },
    {
      "cell_type": "markdown",
      "source": [
        "##Schur Decomposition\n",
        "  - Colab: https://github.com/zanzivyr/Optimizers/blob/main/GramSchmidt.ipynb"
      ],
      "metadata": {
        "id": "eij6GY4umqGi"
      }
    },
    {
      "cell_type": "markdown",
      "source": [
        "##Automatic Differentiation\n",
        "  - *Forward-mode Autodiff*\n",
        "  - Colab: https://github.com/zanzivyr/Optimizers/blob/main/AutoDiff.ipynb"
      ],
      "metadata": {
        "id": "1R6zVbirmsdI"
      }
    },
    {
      "cell_type": "markdown",
      "source": [
        "##Continuous Algebraic Riccati Equation (CARE)\n",
        "  - *Hamiltonian Matrix / Schur Method*\n",
        "  - Colab: https://github.com/zanzivyr/Optimizers/blob/main/AlgebraicRiccatiEquation.ipynb"
      ],
      "metadata": {
        "id": "FrW3okwxmurD"
      }
    },
    {
      "cell_type": "markdown",
      "source": [
        "##Reinforcement Learning\n",
        "  - *Frozen Lake*\n",
        "  - *Q-Learning*\n",
        "  - Colab: https://github.com/zanzivyr/Optimizers/blob/main/FrozenLake.ipynb"
      ],
      "metadata": {
        "id": "UiAIe-J1mxiF"
      }
    },
    {
      "cell_type": "markdown",
      "source": [
        "---------------------\n",
        "\n"
      ],
      "metadata": {
        "id": "uhyiwf3PnXNZ"
      }
    },
    {
      "cell_type": "markdown",
      "source": [
        "# Others\n",
        "\n",
        "I also investigated SDP's with the help of these resources:\n",
        "\n",
        "- Semidefinite Programming & Sums-of-Squares\n",
        "  - Underactuated Robotics, Ch. 23: https://underactuated.mit.edu/optimization.html#section3\n",
        "  - Underactuated Robotics, Deepnote Notebook: https://deepnote.com/workspace/Underactuated-2ed1518a-973b-4145-bd62-1768b49956a8/project/App-C-Optimization-and-Mathematical-Programming-4266eff1-41ee-434a-aa62-0f5a1243ecd2/%2Foptimization.ipynb\n",
        "- S-procedure\n",
        "  - Convex Optimization, Boyd and Vandenberghe, Appendix B (Pages 653-658)\n",
        "\n"
      ],
      "metadata": {
        "id": "ZfEV2XCLngYg"
      }
    }
  ]
}
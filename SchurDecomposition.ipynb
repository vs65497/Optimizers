{
  "nbformat": 4,
  "nbformat_minor": 0,
  "metadata": {
    "colab": {
      "name": "SchurDecomposition.ipynb",
      "provenance": [],
      "collapsed_sections": [],
      "toc_visible": true,
      "authorship_tag": "ABX9TyPDzrIR9LOyI4Z7rQnt5UTe",
      "include_colab_link": true
    },
    "kernelspec": {
      "name": "python3",
      "display_name": "Python 3"
    },
    "language_info": {
      "name": "python"
    }
  },
  "cells": [
    {
      "cell_type": "markdown",
      "metadata": {
        "id": "view-in-github",
        "colab_type": "text"
      },
      "source": [
        "<a href=\"https://colab.research.google.com/github/zanzivyr/Optimizers/blob/main/SchurDecomposition.ipynb\" target=\"_parent\"><img src=\"https://colab.research.google.com/assets/colab-badge.svg\" alt=\"Open In Colab\"/></a>"
      ]
    },
    {
      "cell_type": "markdown",
      "source": [
        "# Schur Decomposition\n",
        "\n",
        "Using our study of the Gram-Schmidt Orthogonalization process, we can now perform a Schur Decomposition on a matrix, such that:\n",
        "\n",
        "Given A, T = UᵀAU\n",
        "\n",
        "We will first solve for U, and then multiply to arrive at T.\n",
        "\n",
        "1. Find Eigenvectors\n",
        "2. Apply Gram-Schmidt\n",
        "3. Normalize (now orthonormal basis)\n",
        "4. Multiply"
      ],
      "metadata": {
        "id": "_PSL7ObJNICg"
      }
    },
    {
      "cell_type": "markdown",
      "source": [
        "## Application\n",
        "\n",
        "We are specifically visiting Schur Decomposition for the sake of solving C.A.R.E. (Continuous Algebraic Riccati Equations), which are found in Control Theory when finding an optimal LQR controller."
      ],
      "metadata": {
        "id": "54DkHxgmObJr"
      }
    },
    {
      "cell_type": "markdown",
      "source": [
        "# Resources\n",
        "\n",
        "- Matt B. - https://youtu.be/Giz6hxC9VGI"
      ],
      "metadata": {
        "id": "rLvEVoaLOKl0"
      }
    },
    {
      "cell_type": "code",
      "source": [
        "import numpy as np\n",
        "from numpy import linalg as LA\n",
        "import tensorflow as tf"
      ],
      "metadata": {
        "id": "lHX_O4u8OSMI"
      },
      "execution_count": 1,
      "outputs": []
    },
    {
      "cell_type": "markdown",
      "source": [
        "# Instantiate\n",
        "\n",
        "Create a random square (n x n) matrix A."
      ],
      "metadata": {
        "id": "E9v7e5epSIYn"
      }
    },
    {
      "cell_type": "code",
      "source": [
        "n = 3\n",
        "\n",
        "A = tf.random.uniform(shape=[n,n], maxval=10, dtype=tf.float32)\n",
        "A.numpy()"
      ],
      "metadata": {
        "colab": {
          "base_uri": "https://localhost:8080/"
        },
        "id": "nlnjSY_9PiRx",
        "outputId": "8d5a15e3-04e0-4084-cdf3-692919d46602"
      },
      "execution_count": 2,
      "outputs": [
        {
          "output_type": "execute_result",
          "data": {
            "text/plain": [
              "array([[7.2352753, 9.983719 , 8.925456 ],\n",
              "       [5.5139866, 6.0656586, 0.1578641],\n",
              "       [4.7421384, 6.427475 , 4.0137205]], dtype=float32)"
            ]
          },
          "metadata": {},
          "execution_count": 2
        }
      ]
    },
    {
      "cell_type": "markdown",
      "source": [
        "# 1. Find Eigenvectors"
      ],
      "metadata": {
        "id": "gnm2aQCJSQhX"
      }
    },
    {
      "cell_type": "code",
      "source": [
        "w, vset = LA.eig(A)\n",
        "vectors = vset.shape[0]\n",
        "size = vset.shape[1]\n",
        "vset"
      ],
      "metadata": {
        "colab": {
          "base_uri": "https://localhost:8080/"
        },
        "id": "x2GzN3GWP9Wl",
        "outputId": "a11421b2-3276-48b9-e534-f21ff008345e"
      },
      "execution_count": 7,
      "outputs": [
        {
          "output_type": "execute_result",
          "data": {
            "text/plain": [
              "array([[ 0.79265314+0.j        ,  0.72583103+0.j        ,\n",
              "         0.72583103-0.j        ],\n",
              "       [ 0.39116427+0.j        , -0.6415961 -0.10164887j,\n",
              "        -0.6415961 +0.10164887j],\n",
              "       [ 0.46764466+0.j        ,  0.12468033+0.1888019j ,\n",
              "         0.12468033-0.1888019j ]], dtype=complex64)"
            ]
          },
          "metadata": {},
          "execution_count": 7
        }
      ]
    },
    {
      "cell_type": "markdown",
      "source": [
        "# 2. Apply Gram-Schmidt"
      ],
      "metadata": {
        "id": "lKH2B9IhSWtj"
      }
    },
    {
      "cell_type": "code",
      "source": [
        "basis = vset[0]\n",
        "\n",
        "for v in range(1, vectors):\n",
        "  vec = vset[v]\n",
        "\n",
        "  sum = 0\n",
        "  for u in range(1, v+1):\n",
        "    uvec = vset[u]\n",
        "    sum += np.dot((np.dot(uvec, vec) / np.dot(uvec, uvec)), uvec)\n",
        "\n",
        "  b = vec - sum\n",
        "  basis = tf.concat([basis, b], 0)\n",
        "\n",
        "basis = tf.reshape(basis, (vectors,size), name=None)\n",
        "basis"
      ],
      "metadata": {
        "colab": {
          "base_uri": "https://localhost:8080/"
        },
        "id": "oKsY0fnzQKB0",
        "outputId": "f508dd6a-468d-47ad-a8c0-c52ff90d9344"
      },
      "execution_count": 8,
      "outputs": [
        {
          "output_type": "execute_result",
          "data": {
            "text/plain": [
              "<tf.Tensor: shape=(3, 3), dtype=complex64, numpy=\n",
              "array([[ 0.79265314+0.j        ,  0.72583103+0.j        ,\n",
              "         0.72583103-0.j        ],\n",
              "       [ 0.        +0.j        ,  0.        +0.j        ,\n",
              "         0.        +0.j        ],\n",
              "       [-0.02509975+0.j        ,  0.04116916+0.00652248j,\n",
              "         0.04116916-0.00652248j]], dtype=complex64)>"
            ]
          },
          "metadata": {},
          "execution_count": 8
        }
      ]
    },
    {
      "cell_type": "markdown",
      "source": [
        "# 3. Normalize\n",
        "\n",
        "The basis found through the Gram-Schmidt Process will now become orthonormal."
      ],
      "metadata": {
        "id": "vp7ZyG8RSbne"
      }
    },
    {
      "cell_type": "code",
      "source": [
        "ortho = 0\n",
        "\n",
        "if LA.norm(basis[0]) != 0:\n",
        "  ortho = tf.math.multiply(basis[0], 1/LA.norm(basis[0]))\n",
        "else:\n",
        "  ortho = tf.zeros(size, dtype=tf.complex64)\n",
        "\n",
        "for v in range(1, vectors):\n",
        "  if LA.norm(basis[v]) != 0:\n",
        "    o = tf.math.multiply(basis[v], 1/LA.norm(basis[v]))\n",
        "  else:\n",
        "    o = tf.zeros(size, dtype=tf.complex64)\n",
        "    \n",
        "  ortho = tf.concat([ortho, o], 0)\n",
        "\n",
        "ortho = tf.reshape(ortho, (vectors,size), name=None)\n",
        "ortho"
      ],
      "metadata": {
        "colab": {
          "base_uri": "https://localhost:8080/"
        },
        "id": "T-pAJk3dRRBK",
        "outputId": "96452b2e-4b65-4f4f-8915-9c332194300e"
      },
      "execution_count": 10,
      "outputs": [
        {
          "output_type": "execute_result",
          "data": {
            "text/plain": [
              "<tf.Tensor: shape=(3, 3), dtype=complex64, numpy=\n",
              "array([[ 0.6111887 +0.j        ,  0.55966437+0.j        ,\n",
              "         0.55966437+0.j        ],\n",
              "       [ 0.        +0.j        ,  0.        +0.j        ,\n",
              "         0.        +0.j        ],\n",
              "       [-0.3917591 +0.j        ,  0.64257175+0.10180337j,\n",
              "         0.64257175-0.10180337j]], dtype=complex64)>"
            ]
          },
          "metadata": {},
          "execution_count": 10
        }
      ]
    },
    {
      "cell_type": "markdown",
      "source": [
        "# 4. Multiply\n",
        "\n",
        "Now with the orthonormal basis, multiply with the given A matrix to find T."
      ],
      "metadata": {
        "id": "aFdUJ2GESwTD"
      }
    },
    {
      "cell_type": "code",
      "source": [
        "U = ortho\n",
        "UT = np.transpose(U)\n",
        "\n",
        "T = np.dot(UT, np.dot(A, U))\n",
        "T"
      ],
      "metadata": {
        "colab": {
          "base_uri": "https://localhost:8080/"
        },
        "id": "i9ZsNAqLRliH",
        "outputId": "ae39a8a6-53e0-40f8-afa1-bc2211e6fce5"
      },
      "execution_count": 12,
      "outputs": [
        {
          "output_type": "execute_result",
          "data": {
            "text/plain": [
              "array([[0.046204 +0.j        , 3.9301016+0.39527464j,\n",
              "        3.9301016-0.39527464j],\n",
              "       [1.3699689+0.13498414j, 8.797126 +1.3038439j ,\n",
              "        8.880322 -0.23834753j],\n",
              "       [1.3699689-0.13498414j, 8.880322 +0.23834753j,\n",
              "        8.797126 -1.3038439j ]], dtype=complex64)"
            ]
          },
          "metadata": {},
          "execution_count": 12
        }
      ]
    },
    {
      "cell_type": "code",
      "source": [
        ""
      ],
      "metadata": {
        "id": "D0rlOhO_R-1a"
      },
      "execution_count": null,
      "outputs": []
    }
  ]
}
{
  "nbformat": 4,
  "nbformat_minor": 0,
  "metadata": {
    "colab": {
      "name": "AutoDiff.ipynb",
      "provenance": [],
      "collapsed_sections": [],
      "toc_visible": true,
      "authorship_tag": "ABX9TyOHaMXeYBziYI0cUAJkHEBQ",
      "include_colab_link": true
    },
    "kernelspec": {
      "name": "python3",
      "display_name": "Python 3"
    },
    "language_info": {
      "name": "python"
    }
  },
  "cells": [
    {
      "cell_type": "markdown",
      "metadata": {
        "id": "view-in-github",
        "colab_type": "text"
      },
      "source": [
        "<a href=\"https://colab.research.google.com/github/zanzivyr/Optimizers/blob/main/AutoDiff.ipynb\" target=\"_parent\"><img src=\"https://colab.research.google.com/assets/colab-badge.svg\" alt=\"Open In Colab\"/></a>"
      ]
    },
    {
      "cell_type": "markdown",
      "source": [
        "# Automatic Differentiation\n",
        "\n",
        "Many technologies require differentiation of functions. There are several ways to approach this including Manual, Numerical, and Symbolic differentiation. Automatic Differentiation, or Autodiff, is a popular method because it provides results similar to manual differentiation without function swell.\n",
        "\n",
        "For this study, we will only experiment with a simple example just to get the gist of the concept."
      ],
      "metadata": {
        "id": "byuZOF5BjBlm"
      }
    },
    {
      "cell_type": "markdown",
      "source": [
        "# Resources\n",
        "\n",
        "- **BYU Flow Lab** - https://www.youtube.com/watch?v=B-1hsAfdGHw *(This notebook is primarily based on this source)*\n",
        "- Wikipedia - https://en.wikipedia.org/wiki/Automatic_differentiation\n",
        "- Gradient of Gradient - https://colab.research.google.com/drive/1VpeE6UvEPRz9HmsHh1KS0XxXjYu533EC#scrollTo=hb--WbxnFvec\n",
        "- Playlist - https://www.youtube.com/watch?v=NL8feCR2Qts&list=PLRDl2inPrWQVu2OvnTvtkRpJ-wz-URMJx&index=26"
      ],
      "metadata": {
        "id": "R4S2_JSZXvjg"
      }
    },
    {
      "cell_type": "code",
      "source": [
        "import numpy as np\n",
        "import tensorflow as np\n",
        "from math import sin, cos"
      ],
      "metadata": {
        "id": "Z73TPUL4mJbL"
      },
      "execution_count": 18,
      "outputs": []
    },
    {
      "cell_type": "markdown",
      "source": [
        "# Dual Numbers\n",
        "\n",
        "Building off the idea of complex numbers, dual numbers carry two components, a primal (equivalent to the real part of a complex number) and a dual (similar to the imaginary component). The dual is a scalar, b, multiplied by ε, where ε^2 is 0. \n",
        "\n",
        "- Complex Number ≡ a ± bi\n",
        "- Dual Number ≡ a ± bε"
      ],
      "metadata": {
        "id": "nN4RqRX-Ydd3"
      }
    },
    {
      "cell_type": "markdown",
      "source": [
        "## Taylor Series\n",
        "\n",
        "If we let b = 1 and take our dual number as input to a function such that\n",
        "\n",
        "f(x) → f(x + ε)\n",
        "\n",
        "Then we write a Taylor Series approximation of the input, we have\n",
        "\n",
        "f(x + ε) = f(x) + f'(x)ε + f''(x)*(ε^2)/2 + ...\n",
        "\n",
        "But we know that ε^2 = 0, and all of the proceeding terms will contain ε^2."
      ],
      "metadata": {
        "id": "bikY5g8Ke0e_"
      }
    },
    {
      "cell_type": "markdown",
      "source": [
        "## Chain Rule (Nested Functions)\n",
        "\n",
        "In the case of nested functions, we can take the following approach. Let our inner function be y, and the outer function be f, such that\n",
        "\n",
        "- y(x) = x + ε\n",
        "- f(x) → f(y(x))\n",
        "\n",
        "If we write a Taylor Series approximation of y, we have\n",
        "\n",
        "y(x + ε) = y(x) + (dy/dx)ε \n",
        "\n",
        "And f becomes\n",
        "\n",
        "f(y(x + ε)) = f(y(x)) +  (df/dy)*bε\n",
        "\n",
        "Substituting b = dy/dx, we have\n",
        "\n",
        "f(y(x + ε)) = f(y(x)) +  (df/dy)(dy/dx)ε\n",
        "\n",
        "Where (df/dy)(dy/dx) is the Chain Rule!"
      ],
      "metadata": {
        "id": "xw9ObCidhth7"
      }
    },
    {
      "cell_type": "markdown",
      "source": [
        "# Forward Mode Automatic Differentiation\n",
        "\n",
        "Let v_i be a function composed of all functions which came before it (are nested within it), such that\n",
        "\n",
        "v_i = v_i(v_1, v_2, ... , v_(i-2), v_(i-1))\n",
        "\n",
        "Rewriting our Taylor Series approximation as a series, using this function, v_i, we have\n",
        "\n",
        "dv_i/dv_j = Σ(k=j → i-1)(dv_i/dv_k)(dv_k/dv_j)"
      ],
      "metadata": {
        "id": "Kb7_XjpmjT4C"
      }
    },
    {
      "cell_type": "markdown",
      "source": [
        "### Example\n",
        "\n",
        "Let v1, v2, v3, v4\n",
        "\n",
        "- v1 = x1\n",
        "- v4 = f(x)\n",
        "\n",
        "If we differentiate each part, we have\n",
        "\n",
        "- v̇1 = 1\n",
        "- v̇2 = (∂v2/∂v1)*v̇1\n",
        "- v̇3 = (∂v3/∂v1)*v̇1 + (∂v3/∂v1)*v̇2\n",
        "- v̇4 = (∂v4/∂v1)*v̇1 + (∂v3/∂v1)*v̇2 + (∂v3/∂v1)*v̇3\n",
        "\n",
        "We can see that this structure lends to some amount of recursion."
      ],
      "metadata": {
        "id": "EZu7hc6glU5L"
      }
    },
    {
      "cell_type": "markdown",
      "source": [
        "# Binary Tree\n",
        "\n",
        "To capture the function we are going to overload the default math functions of python.\n",
        "\n",
        "When python sees \"a + b\", for example, it will create a binary tree with (a + b) at the root, and (a) and (b) as the leaves.\n",
        "\n",
        "Though this can be expanded to a and/or b being functions, we will limit this in order to simplify the study."
      ],
      "metadata": {
        "id": "m1_mIOlkoCzX"
      }
    },
    {
      "cell_type": "markdown",
      "source": [
        "## Double Linked List\n",
        "\n",
        "We will use a double linked list to capture the left and right sides of the tree, with variables to track logistical aspects of each node, functions to overload default math operations, and a partial derivative function.\n",
        "\n",
        "The partial derivative function here is **extremely** limited. This is because even seemingly simple rules can have multiple complex rules. (More on this at the bottom of the notebook)."
      ],
      "metadata": {
        "id": "SgeuIBw0pVg5"
      }
    },
    {
      "cell_type": "code",
      "source": [
        "class dual:\n",
        "  def __init__(self, value, op=None, left=None, right=None, name=None):\n",
        "    self.value = value\n",
        "    self.op = op\n",
        "    self.left = left\n",
        "    self.right = right\n",
        "    self.name = name\n",
        "\n",
        "  def __mul__(self, b):\n",
        "    return dual(self.value * b.value, op='*', left=self, right=b)\n",
        "\n",
        "  def __rmul__(self, b):\n",
        "    return dual(self.value * b.value, op='*', left=b, right=self)\n",
        "\n",
        "  def __add__(self, b):\n",
        "    return dual(self.value + b.value, op='+', left=self, right=b)\n",
        "\n",
        "  def sin(self):\n",
        "    return dual(sin(self.value), op='sin', left=self)\n",
        "\n",
        "  def partial(self, name):\n",
        "    # termination condition\n",
        "    if self.left == None and self.right == None:\n",
        "      if self.name == name: return 1\n",
        "      return 0\n",
        "\n",
        "    # normal operation\n",
        "    else:\n",
        "      op = self.op\n",
        "      if op == '*':\n",
        "        # Below are partial derivative conditions\n",
        "        \n",
        "        # left is wrt variable\n",
        "        if self.left.name == name:\n",
        "          return self.right.value\n",
        "\n",
        "        # right is wrt variable\n",
        "        return self.left.value\n",
        "\n",
        "      if op == '+': return self.left.partial(name) + self.right.partial(name)\n",
        "      if op == 'sin':\n",
        "        if self.left.name == name: return cos(self.left.value)\n",
        "        return 0\n"
      ],
      "metadata": {
        "id": "7-xQi65Wjk09"
      },
      "execution_count": 42,
      "outputs": []
    },
    {
      "cell_type": "markdown",
      "source": [
        "# Simple Autodiff\n",
        "\n",
        "Let's run through a real example!"
      ],
      "metadata": {
        "id": "BNb4jX3Fromj"
      }
    },
    {
      "cell_type": "code",
      "source": [
        "x1 = dual(2.0, name=\"x1\")\n",
        "x2 = dual(5.0, name=\"x2\")\n",
        "\n",
        "fx = x1*x2 + x2.sin()\n",
        "fx"
      ],
      "metadata": {
        "colab": {
          "base_uri": "https://localhost:8080/"
        },
        "id": "xGsEEK6Gioai",
        "outputId": "48e0fa03-c1a8-461e-89be-b2f5899045b7"
      },
      "execution_count": 43,
      "outputs": [
        {
          "output_type": "execute_result",
          "data": {
            "text/plain": [
              "<__main__.dual at 0x7fa499ab6790>"
            ]
          },
          "metadata": {},
          "execution_count": 43
        }
      ]
    },
    {
      "cell_type": "code",
      "source": [
        "fx.value"
      ],
      "metadata": {
        "colab": {
          "base_uri": "https://localhost:8080/"
        },
        "id": "b6MWiK3zk5QL",
        "outputId": "377a8fa3-0570-4361-f05f-43b18661fc8c"
      },
      "execution_count": 38,
      "outputs": [
        {
          "output_type": "execute_result",
          "data": {
            "text/plain": [
              "9.041075725336862"
            ]
          },
          "metadata": {},
          "execution_count": 38
        }
      ]
    },
    {
      "cell_type": "markdown",
      "source": [
        "Now, by traversing the binary tree, we can determine partial derivatives of each term"
      ],
      "metadata": {
        "id": "yP3qNm5zGE6G"
      }
    },
    {
      "cell_type": "code",
      "source": [
        "fx.partial(\"x1\")"
      ],
      "metadata": {
        "colab": {
          "base_uri": "https://localhost:8080/"
        },
        "id": "MhoxeDm_lYE9",
        "outputId": "b233341a-d86e-40be-a055-7b73d122d9dc"
      },
      "execution_count": 39,
      "outputs": [
        {
          "output_type": "execute_result",
          "data": {
            "text/plain": [
              "5.0"
            ]
          },
          "metadata": {},
          "execution_count": 39
        }
      ]
    },
    {
      "cell_type": "code",
      "source": [
        "fx.partial('x2')"
      ],
      "metadata": {
        "colab": {
          "base_uri": "https://localhost:8080/"
        },
        "id": "hYdi3xISEJjO",
        "outputId": "c10120ba-36e5-4efd-8dae-e590c1c85617"
      },
      "execution_count": 40,
      "outputs": [
        {
          "output_type": "execute_result",
          "data": {
            "text/plain": [
              "2.283662185463226"
            ]
          },
          "metadata": {},
          "execution_count": 40
        }
      ]
    },
    {
      "cell_type": "markdown",
      "source": [
        "We can now verify these by hand."
      ],
      "metadata": {
        "id": "OZyAUu5Tr6uB"
      }
    },
    {
      "cell_type": "markdown",
      "source": [
        "## Tracking expression variables\n",
        "\n",
        "At this point we would need to add a tracking functionality to hold variables used in the expression. This way we can determine the span of the column space. But our dual numbers class is starting to become winding and unweildy. For our implementation here, tracking would involve creating an overseeing list.\n",
        "\n",
        "To keep things simple, we'll just conclude here."
      ],
      "metadata": {
        "id": "ApWtTK06FL0S"
      }
    },
    {
      "cell_type": "markdown",
      "source": [
        "# Defining Partial Derivatives\n",
        "\n",
        "As stated earlier, defining partial derivatives can be deceivingly complicated. Below is some of the code I started writing for finding the derivative of (a*b) with respect to some variable x_i.\n",
        "\n",
        "For this to work in every situation, I needed to account for every combination of a or b being a function, a or b being a variable, a or b eventually containing the variable we were looking for, etc.\n",
        "\n",
        "Perhaps there is a simpler way to handle this, but it clearly requires significant effort which escapes the scope of this study. Here, we just want to gain an insight to the purpose of Automatic Differentiation, the scope of it, and have some appreciation for the utility it provides for free."
      ],
      "metadata": {
        "id": "eJaRoU9ntC34"
      }
    },
    {
      "cell_type": "code",
      "source": [
        "'''\n",
        "# FUNCTIONS\n",
        "# both children are functions\n",
        "if self.left.name == None and self.right.name == None:\n",
        "  return self.left.partial(name) * self.right.partial(name)\n",
        "\n",
        "# left is a function and right is a variable\n",
        "if self.left.name == None:\n",
        "  result = self.left.partial(name)\n",
        "  b = self.right\n",
        "\n",
        "# right is a function and left is a variable\n",
        "if self.right.name == None:\n",
        "  result = self.right.partial(name)\n",
        "  b = self.left\n",
        "\n",
        "# variable was found in function, multiply as planned\n",
        "# else check b is wrt variable\n",
        "# if so, return function value, else return zero\n",
        "if type(result) != dual: return result * b.value\n",
        "else:\n",
        "  if b.name == name: return result.value\n",
        "  else: return 0\n",
        "\n",
        "# VARIABLES (no functions)\n",
        "# both are wrt variable (squared)\n",
        "if self.left.name == name and self.right.name == name:\n",
        "  self.value = 2*self.left.value\n",
        "  self.name = name\n",
        "  return self\n",
        "\n",
        "# both are not wrt variable\n",
        "# return dual (self) as a flag, variable not found\n",
        "if self.left.name != name and self.right.name != name:\n",
        "  self.value = self.left.value * self.right.value\n",
        "  return self\n",
        "'''"
      ],
      "metadata": {
        "id": "EfXdpnIWChFA"
      },
      "execution_count": null,
      "outputs": []
    }
  ]
}
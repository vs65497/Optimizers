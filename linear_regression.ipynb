{
  "nbformat": 4,
  "nbformat_minor": 0,
  "metadata": {
    "colab": {
      "name": "linear_regression.ipynb",
      "provenance": [],
      "collapsed_sections": [],
      "toc_visible": true,
      "authorship_tag": "ABX9TyPFH8X8mHouLP/UQuYl3fD+",
      "include_colab_link": true
    },
    "kernelspec": {
      "name": "python3",
      "display_name": "Python 3"
    },
    "language_info": {
      "name": "python"
    }
  },
  "cells": [
    {
      "cell_type": "markdown",
      "metadata": {
        "id": "view-in-github",
        "colab_type": "text"
      },
      "source": [
        "<a href=\"https://colab.research.google.com/github/zanzivyr/Optimizers/blob/main/linear_regression.ipynb\" target=\"_parent\"><img src=\"https://colab.research.google.com/assets/colab-badge.svg\" alt=\"Open In Colab\"/></a>"
      ]
    },
    {
      "cell_type": "markdown",
      "source": [
        "# Linear Regression\n",
        "\n",
        "1. Generate random data\n",
        "2. Find the mean on y-axis\n",
        "3. Set initial line of fit\n",
        "4. Rotate line of fit until minimized sum of squares\n",
        "5. Find best y-intercept using Gradient Descent"
      ],
      "metadata": {
        "id": "qNRsFE608dMy"
      }
    },
    {
      "cell_type": "markdown",
      "source": [
        "## Generate Random Data\n",
        "First we'll generate some random data to start with."
      ],
      "metadata": {
        "id": "qZa39iSM9KJm"
      }
    },
    {
      "cell_type": "code",
      "source": [
        "import numpy as np\n",
        "import matplotlib.pyplot as plt"
      ],
      "metadata": {
        "id": "-tx0GzOP9RTs"
      },
      "execution_count": null,
      "outputs": []
    },
    {
      "cell_type": "code",
      "source": [
        "import tensorflow as tf"
      ],
      "metadata": {
        "id": "F8ourpn3mhV2"
      },
      "execution_count": null,
      "outputs": []
    },
    {
      "cell_type": "code",
      "source": [
        "samples = 7\n",
        "\n",
        "x = np.random.randint(100, size=samples)\n",
        "y = np.random.randint(100, size=samples)\n",
        "data = [x,y]\n",
        "\n",
        "# Minimum values\n",
        "xmin = tf.reduce_min(data[0]).numpy()\n",
        "ymin = tf.reduce_min(data[1]).numpy()\n",
        "\n",
        "# Maximum values\n",
        "xmax = tf.reduce_max(data[0]).numpy()\n",
        "ymax = tf.reduce_max(data[1]).numpy()\n",
        "\n",
        "data"
      ],
      "metadata": {
        "colab": {
          "base_uri": "https://localhost:8080/"
        },
        "id": "kcRCaU0F9yGH",
        "outputId": "ac0ec124-84f5-475f-d303-016513786e75"
      },
      "execution_count": null,
      "outputs": [
        {
          "output_type": "execute_result",
          "data": {
            "text/plain": [
              "[array([38, 96, 50, 74, 27, 81, 11]), array([13, 67, 21, 28, 86, 95, 28])]"
            ]
          },
          "metadata": {},
          "execution_count": 252
        }
      ]
    },
    {
      "cell_type": "code",
      "source": [
        "plt.scatter(data[0], data[1])\n",
        "plt.show()"
      ],
      "metadata": {
        "colab": {
          "base_uri": "https://localhost:8080/",
          "height": 265
        },
        "id": "fjtlOr3o9_za",
        "outputId": "f14a7885-bb16-49ec-c174-c7295e7af348"
      },
      "execution_count": null,
      "outputs": [
        {
          "output_type": "display_data",
          "data": {
            "text/plain": [
              "<Figure size 432x288 with 1 Axes>"
            ],
            "image/png": "[encoded data removed]"
          },
          "metadata": {
            "needs_background": "light"
          }
        }
      ]
    },
    {
      "cell_type": "markdown",
      "source": [
        "## Find the mean on the y-axis\n",
        "Now we'll find the mean on the y-axis which serves as a starting point for the y-intercept.\n",
        "\n",
        "While there are much faster ways of implementing these functions (including an already done linear regression), we will be doing everything with loops from here on out. This is to get a good intuition for what is actually happening."
      ],
      "metadata": {
        "id": "IEAz6Z9g_7fF"
      }
    },
    {
      "cell_type": "markdown",
      "source": [
        "### Mean\n",
        "A mean is the sum of the values of the samples divided by the samples\n",
        "\n",
        "sum(data) / n"
      ],
      "metadata": {
        "id": "oVs7iF1mAdvJ"
      }
    },
    {
      "cell_type": "code",
      "source": [
        "# Find the mean on the y-axis\n",
        "sum = 0\n",
        "for j in y:\n",
        "  sum += j\n",
        "\n",
        "ymean = sum / samples\n",
        "\n",
        "# Find the mean on the x-axis\n",
        "sum = 0\n",
        "for i in x:\n",
        "  sum += i\n",
        "\n",
        "xmean = sum / samples\n",
        "\n",
        "ymean, xmean"
      ],
      "metadata": {
        "colab": {
          "base_uri": "https://localhost:8080/"
        },
        "id": "UwNClAWnBhQS",
        "outputId": "86c83373-4031-447f-a8fd-3443e8b739cb"
      },
      "execution_count": null,
      "outputs": [
        {
          "output_type": "execute_result",
          "data": {
            "text/plain": [
              "(48.285714285714285, 53.857142857142854)"
            ]
          },
          "metadata": {},
          "execution_count": 254
        }
      ]
    },
    {
      "cell_type": "markdown",
      "source": [
        "## Set initial line of fit\n",
        "\n",
        "Show the line on the scatter plot"
      ],
      "metadata": {
        "id": "oYdlkXp8CMjO"
      }
    },
    {
      "cell_type": "code",
      "source": [
        "plt.scatter(data[0], data[1])\n",
        "plt.plot([0, 100], [ymean, ymean], color='k', linestyle='-', linewidth=2)\n",
        "plt.show()"
      ],
      "metadata": {
        "colab": {
          "base_uri": "https://localhost:8080/",
          "height": 265
        },
        "id": "xSwgNe-4CiO_",
        "outputId": "acc66ca2-920f-4d5e-f77e-d336e72b53d0"
      },
      "execution_count": null,
      "outputs": [
        {
          "output_type": "display_data",
          "data": {
            "text/plain": [
              "<Figure size 432x288 with 1 Axes>"
            ],
            "image/png": "[encoded data removed]"
          },
          "metadata": {
            "needs_background": "light"
          }
        }
      ]
    },
    {
      "cell_type": "markdown",
      "source": [
        "## Rotate the line of fit\n",
        "\n",
        "1. We'll set the hyperparameters and parameters\n",
        "2. Find the mean of squares\n",
        "3. Then make our first rotation of the line of fit"
      ],
      "metadata": {
        "id": "oNZKfJ3MDHja"
      }
    },
    {
      "cell_type": "code",
      "source": [
        "# hyperparameters\n",
        "lr = 0.00001\n",
        "iter = 10\n",
        "thresh = 0.05\n",
        "\n",
        "# parameters\n",
        "theta = 5 * np.pi/180 # initial guess\n",
        "thprev = 0\n",
        "slope = 0"
      ],
      "metadata": {
        "id": "r6x0NwFAHv_F"
      },
      "execution_count": null,
      "outputs": []
    },
    {
      "cell_type": "markdown",
      "source": [
        "### Sum of Squares\n",
        "\n",
        "Let's see an example of sum of squares of residuals:"
      ],
      "metadata": {
        "id": "TQxFJBPDIcmM"
      }
    },
    {
      "cell_type": "code",
      "source": [
        "# sums of squares for initial state\n",
        "sosprev = 0\n",
        "for r in range(samples):\n",
        "  sosprev += (data[1][r] - ymean)**2\n",
        "\n",
        "sosprev /= samples\n",
        "\n",
        "sosprev"
      ],
      "metadata": {
        "colab": {
          "base_uri": "https://localhost:8080/"
        },
        "id": "YHOABZztDeFq",
        "outputId": "4dacfd0e-efeb-4ad3-a63c-5cd367b522b7"
      },
      "execution_count": null,
      "outputs": [
        {
          "output_type": "execute_result",
          "data": {
            "text/plain": [
              "966.7755102040818"
            ]
          },
          "metadata": {},
          "execution_count": 257
        }
      ]
    },
    {
      "cell_type": "markdown",
      "source": [
        "In red, we have our new line based on the initial guess.\n",
        "\n",
        "And in black, our old one."
      ],
      "metadata": {
        "id": "57C8oVkPKbrU"
      }
    },
    {
      "cell_type": "code",
      "source": [
        "# line of fit (via rotating)\n",
        "delta_b = xmean*np.tan(theta)\n",
        "b = ymean - delta_b\n",
        "slope = delta_b / xmean\n",
        "\n",
        "plt.scatter(data[0], data[1])\n",
        "plt.plot([xmin, xmax], [ymean, ymean], color='k', linestyle='-', linewidth=2)\n",
        "plt.plot([xmin, xmax], [b, slope*ymax + b], color='r', linestyle='-', linewidth=2)\n",
        "plt.show()"
      ],
      "metadata": {
        "colab": {
          "base_uri": "https://localhost:8080/",
          "height": 265
        },
        "id": "q9UtvQMkLBr4",
        "outputId": "e8121c5f-f27a-41dc-eb9c-fd13e26137f1"
      },
      "execution_count": null,
      "outputs": [
        {
          "output_type": "display_data",
          "data": {
            "text/plain": [
              "<Figure size 432x288 with 1 Axes>"
            ],
            "image/png": "[encoded data removed]"
          },
          "metadata": {
            "needs_background": "light"
          }
        }
      ]
    },
    {
      "cell_type": "markdown",
      "source": [
        "## Find line of best fit\n",
        "\n",
        "Using Gradient Descent, we will rotate our line until it is very near its best fit"
      ],
      "metadata": {
        "id": "nq3BF28vL0JE"
      }
    },
    {
      "cell_type": "code",
      "source": [
        "# train\n",
        "for i in range(iter):\n",
        "  # line of fit (via rotating)\n",
        "  delta_b = xmean*np.tan(theta)\n",
        "  b = ymean - delta_b\n",
        "  slope = delta_b / xmean\n",
        "\n",
        "  # sums of squares\n",
        "  sos = 0\n",
        "  for r in range(samples):\n",
        "    pred = data[0][r] * slope + b\n",
        "    sos += (data[1][r] - pred)**2\n",
        "\n",
        "  sos = sos / samples\n",
        "\n",
        "  # using the fundamental theorem of calculus find derivative for GD\n",
        "  deriv = (sos - sosprev) / (theta - thprev)\n",
        "  thprev = theta\n",
        "  theta = theta + lr * deriv\n",
        "  if i >= iter - 5:\n",
        "    print(\"#\"+str(i+1)+\": \"+str((sos - sosprev) / samples))\n",
        "    print()\n",
        "\n",
        "  # GD termination condition\n",
        "  if abs(sos - sosprev) / samples < thresh:\n",
        "    print(\"Derivative: \" + str(deriv))\n",
        "    print(\"Theta: \" + str(theta * 180 / np.pi))\n",
        "    print(\"Iteration: \" + str(i + 1))\n",
        "    print(\"Metric: \" + str((sos - sosprev) / samples))\n",
        "    break\n",
        "\n",
        "  sosprev = sos\n",
        "  \n",
        "plt.scatter(data[0], data[1])\n",
        "plt.plot([xmin, xmax], [b, slope*ymax + b], color='r', linestyle='-', linewidth=2)\n",
        "plt.show()"
      ],
      "metadata": {
        "id": "8A4kZS5VM27w",
        "colab": {
          "base_uri": "https://localhost:8080/",
          "height": 439
        },
        "outputId": "cdbe39b7-cea1-45c0-b1d4-463c77046bb4"
      },
      "execution_count": null,
      "outputs": [
        {
          "output_type": "stream",
          "name": "stdout",
          "text": [
            "#6: 0.374493843726246\n",
            "\n",
            "#7: 0.3863884430769206\n",
            "\n",
            "#8: 0.39867819313722713\n",
            "\n",
            "#9: 0.41137979975899597\n",
            "\n",
            "#10: 0.42451098460865716\n",
            "\n"
          ]
        },
        {
          "output_type": "display_data",
          "data": {
            "text/plain": [
              "<Figure size 432x288 with 1 Axes>"
            ],
            "image/png": "[encoded data removed]"
          },
          "metadata": {
            "needs_background": "light"
          }
        }
      ]
    },
    {
      "cell_type": "code",
      "source": [
        ""
      ],
      "metadata": {
        "id": "x6f7QIid6o0d"
      },
      "execution_count": null,
      "outputs": []
    }
  ]
}
{
  "nbformat": 4,
  "nbformat_minor": 0,
  "metadata": {
    "colab": {
      "name": "QP.ipynb",
      "provenance": [],
      "authorship_tag": "ABX9TyNpVurBOXF8OGztF+PIbSH9",
      "include_colab_link": true
    },
    "kernelspec": {
      "name": "python3",
      "display_name": "Python 3"
    },
    "language_info": {
      "name": "python"
    }
  },
  "cells": [
    {
      "cell_type": "markdown",
      "metadata": {
        "id": "view-in-github",
        "colab_type": "text"
      },
      "source": [
        "<a href=\"https://colab.research.google.com/github/zanzivyr/Optimizers/blob/main/QP.ipynb\" target=\"_parent\"><img src=\"https://colab.research.google.com/assets/colab-badge.svg\" alt=\"Open In Colab\"/></a>"
      ]
    },
    {
      "cell_type": "markdown",
      "source": [
        "# Quadratic Programming\n",
        "\n",
        "Today we will continue our study of optimization by writing a Quadratic Programming solver.\n",
        "\n",
        "This will be a bit more challenging than the LP Solver, but will help build understanding of different classes of optimization problems. Let's dig in!"
      ],
      "metadata": {
        "id": "tAyBgfs15eQO"
      }
    },
    {
      "cell_type": "markdown",
      "source": [
        "# Resources\n",
        "\n",
        "These are the resources I used to learn how to solve Quadratic Programming problems.\n",
        "\n",
        "- Wikipedia - https://en.wikipedia.org/wiki/Quadratic_programming\n",
        "- Kody Powell - https://www.youtube.com/watch?v=GZb9647X8sg\n",
        "- Chris Rycroft - https://www.youtube.com/watch?v=O-pTuBTShc4\n",
        "- BYU FLOW Lab - https://youtu.be/F9aG69nn1n8\n",
        "- **BEST** -> Efstratios Nikolaidis - https://www.youtube.com/watch?v=Ifve4IpeH9w\n"
      ],
      "metadata": {
        "id": "zTtdBeCu50OW"
      }
    },
    {
      "cell_type": "code",
      "source": [
        ""
      ],
      "metadata": {
        "id": "4sDnHfTP6Z6P"
      },
      "execution_count": null,
      "outputs": []
    }
  ]
}
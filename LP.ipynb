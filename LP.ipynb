{
  "nbformat": 4,
  "nbformat_minor": 0,
  "metadata": {
    "colab": {
      "name": "LP.ipynb",
      "provenance": [],
      "collapsed_sections": [],
      "toc_visible": true,
      "authorship_tag": "ABX9TyNwxr8GHVXWUbiuK0/BnE0L",
      "include_colab_link": true
    },
    "kernelspec": {
      "name": "python3",
      "display_name": "Python 3"
    },
    "language_info": {
      "name": "python"
    }
  },
  "cells": [
    {
      "cell_type": "markdown",
      "metadata": {
        "id": "view-in-github",
        "colab_type": "text"
      },
      "source": [
        "<a href=\"https://colab.research.google.com/github/zanzivyr/Optimizers/blob/main/LP.ipynb\" target=\"_parent\"><img src=\"https://colab.research.google.com/assets/colab-badge.svg\" alt=\"Open In Colab\"/></a>"
      ]
    },
    {
      "cell_type": "markdown",
      "source": [
        "# Linear Programming\n",
        "\n",
        "Today we will continue our study of optimization with a brief overview of Linear Programming."
      ],
      "metadata": {
        "id": "AdfumdnuQbsy"
      }
    },
    {
      "cell_type": "markdown",
      "source": [
        "## Resources\n",
        "\n",
        "These are resources I used to learn about Linear Programming:\n",
        "\n",
        "- The Organic Chemistry Tutor - https://youtu.be/Bzzqx1F23a8\n",
        "- Meghan de Witt - https://youtu.be/rzRZLGD_aeE\n",
        "- Wikipedia - https://en.wikipedia.org/wiki/Linear_programming\n",
        "- Timeparticle - https://www.youtube.com/watch?v=5bxsxM2UTb4\n",
        "- Geeks for Geeks - https://www.geeksforgeeks.org/singular-value-decomposition-svd/\n",
        "- Section.io - https://www.section.io/engineering-education/moore-penrose-pseudoinverse/\n",
        "- Jon Krohn - https://youtu.be/vXk-o3PVUdU"
      ],
      "metadata": {
        "id": "1xKoG0I9Plj7"
      }
    },
    {
      "cell_type": "code",
      "execution_count": null,
      "metadata": {
        "id": "YUYRt-IloUUx"
      },
      "outputs": [],
      "source": [
        "import numpy as np\n",
        "import matplotlib.pyplot as plt\n",
        "import tensorflow as tf"
      ]
    },
    {
      "cell_type": "markdown",
      "source": [
        "## Instantiate\n",
        "\n",
        "First we'll create a LP with an objective function and 2 constraint inequalities as a matrix.\n",
        "\n",
        "We can use random integer values for the coefficients.\n",
        "\n",
        "The A matrix shall be constructed as:\n",
        "\n",
        "1. **Row 1** = coefficients of the **objective**\n",
        "2. **Row 2+** = coefficients of the **constraints**\n",
        "3. **Column vector b** = solutions to the objective and constraints"
      ],
      "metadata": {
        "id": "sLCehYaCzi1F"
      }
    },
    {
      "cell_type": "markdown",
      "source": [
        "### Augmentations\n",
        "\n",
        "We're also going to augment the objective and constraints.\n",
        "\n",
        "By adding \"slack\" variables to the constraints (one per constraint) we can convert the inequality to an equality. (Basically, by having another term, we can guarantee that the equation will become equal... it's a stop gap) Then when checking that the solutions to the variables meet the final constraint, we can say if our solution is feasible, or unfeasible.\n",
        "\n",
        "**Note**: The objective row should have zeroes for the slack variables.\n",
        "\n",
        "This is called the Simplex Method"
      ],
      "metadata": {
        "id": "2CZR0iBJzo2r"
      }
    },
    {
      "cell_type": "code",
      "source": [
        "A = tf.random.normal(\n",
        "    shape=[3,2],\n",
        "    mean=0,\n",
        "    stddev=1,\n",
        "    dtype=tf.dtypes.float32,\n",
        "    seed=42,\n",
        "    name=None\n",
        ")\n",
        "eye = tf.constant([[0,0],[1,0],[0,1]], dtype=tf.dtypes.float32)\n",
        "b = tf.random.normal(\n",
        "    shape=[3,1],\n",
        "    mean=0,\n",
        "    stddev=1,\n",
        "    dtype=tf.dtypes.float32,\n",
        "    seed=42,\n",
        "    name=None\n",
        ")\n",
        "A = tf.concat([A, eye], 1)\n",
        "A, b"
      ],
      "metadata": {
        "colab": {
          "base_uri": "https://localhost:8080/"
        },
        "id": "Q2AvzeJv0Dzn",
        "outputId": "7477ba30-29d8-4d39-b545-f1f552703d0c"
      },
      "execution_count": null,
      "outputs": [
        {
          "output_type": "execute_result",
          "data": {
            "text/plain": [
              "(<tf.Tensor: shape=(3, 4), dtype=float32, numpy=\n",
              " array([[-0.41014114,  0.02199026,  0.        ,  0.        ],\n",
              "        [-0.8885235 , -0.8977638 ,  1.        ,  0.        ],\n",
              "        [-1.8565961 ,  1.370516  ,  0.        ,  1.        ]],\n",
              "       dtype=float32)>, <tf.Tensor: shape=(3, 1), dtype=float32, numpy=\n",
              " array([[-0.99965364],\n",
              "        [-1.4047071 ],\n",
              "        [-0.941157  ]], dtype=float32)>)"
            ]
          },
          "metadata": {},
          "execution_count": 59
        }
      ]
    },
    {
      "cell_type": "markdown",
      "source": [
        "## Singular Value Decomposition (SVD)\n",
        "\n",
        "Use the Singular Value Decomposition to find the Moore-Penrose Pseudoinverse"
      ],
      "metadata": {
        "id": "E9qagcQt1OEm"
      }
    },
    {
      "cell_type": "code",
      "source": [
        "# SVD\n",
        "u, s, vt = np.linalg.svd(A, full_matrices=True)\n",
        "u, s, vt"
      ],
      "metadata": {
        "colab": {
          "base_uri": "https://localhost:8080/"
        },
        "id": "kBZJW0gx5Rec",
        "outputId": "a00c4e0e-e033-4100-98c7-c03a774a28d7"
      },
      "execution_count": null,
      "outputs": [
        {
          "output_type": "execute_result",
          "data": {
            "text/plain": [
              "(array([[ 0.1299178 ,  0.09825184,  0.9866448 ],\n",
              "        [ 0.11778145,  0.98650354, -0.11374681],\n",
              "        [ 0.9845044 , -0.13098618, -0.11659212]], dtype=float32),\n",
              " array([2.5455608 , 1.6044058 , 0.18819794], dtype=float32),\n",
              " array([[-0.7800887 ,  0.4896351 ,  0.04626935,  0.38675344],\n",
              "        [-0.419869  , -0.66255385,  0.61487156, -0.08164155],\n",
              "        [-0.46298283, -0.1911659 , -0.60439986, -0.61951864],\n",
              "        [-0.02861   , -0.5336061 , -0.50447285,  0.67819846]],\n",
              "       dtype=float32))"
            ]
          },
          "metadata": {},
          "execution_count": 60
        }
      ]
    },
    {
      "cell_type": "markdown",
      "source": [
        "### SVD Inverse\n",
        "\n",
        "Using the SVD, we can now invert the matrix"
      ],
      "metadata": {
        "id": "4-u-PLh8LxRw"
      }
    },
    {
      "cell_type": "code",
      "source": [
        "# Moore-Penrose Pseudo Inverse\n",
        "vtt = np.transpose(vt)\n",
        "sinv = np.linalg.inv(np.diag(s))\n",
        "ut = np.transpose(u)\n",
        "\n",
        "vtt.shape, sinv.shape, ut.shape"
      ],
      "metadata": {
        "colab": {
          "base_uri": "https://localhost:8080/"
        },
        "id": "PXzQszxq5kLG",
        "outputId": "95c3a6de-064b-4170-d06e-91cc8e5482c5"
      },
      "execution_count": null,
      "outputs": [
        {
          "output_type": "execute_result",
          "data": {
            "text/plain": [
              "((4, 4), (3, 3), (3, 3))"
            ]
          },
          "metadata": {},
          "execution_count": 61
        }
      ]
    },
    {
      "cell_type": "markdown",
      "source": [
        "Σ transpose needs to be the same dimensions as A.\n",
        "\n",
        "We can concatenate on another column if A is overdetermined or row if A is underdetermined."
      ],
      "metadata": {
        "id": "0KxCiHsJL9Uz"
      }
    },
    {
      "cell_type": "code",
      "source": [
        "sinv = np.concatenate((sinv, np.array([[0,0,0]])), axis=0)\n",
        "sinv.shape"
      ],
      "metadata": {
        "colab": {
          "base_uri": "https://localhost:8080/"
        },
        "id": "e0YgVzBVJtTs",
        "outputId": "ac2b2e2c-d59f-4275-83cf-7de4d8da2f6b"
      },
      "execution_count": null,
      "outputs": [
        {
          "output_type": "execute_result",
          "data": {
            "text/plain": [
              "(4, 3)"
            ]
          },
          "metadata": {},
          "execution_count": 62
        }
      ]
    },
    {
      "cell_type": "markdown",
      "source": [
        "## Moore-Penrose Pseudoinverse\n",
        "\n",
        "Now we can find A dagger:\n",
        "\n",
        "A† = VTᵀ Σ Uᵀ"
      ],
      "metadata": {
        "id": "QXmIZ0P6MXI3"
      }
    },
    {
      "cell_type": "code",
      "source": [
        "Adag = np.dot(vtt, np.dot(sinv, ut))\n",
        "Adag"
      ],
      "metadata": {
        "colab": {
          "base_uri": "https://localhost:8080/"
        },
        "id": "GoXzbQip6Xsx",
        "outputId": "5cb5003f-e0c5-4e36-8c43-99d84480cc7a"
      },
      "execution_count": null,
      "outputs": [
        {
          "output_type": "execute_result",
          "data": {
            "text/plain": [
              "array([[-2.49275517, -0.01443299,  0.01940323],\n",
              "       [-1.01778902, -0.26918982,  0.36189082],\n",
              "       [-3.12860567,  0.7455071 ,  0.3421327 ],\n",
              "       [-3.23314356,  0.34213272,  0.54004687]])"
            ]
          },
          "metadata": {},
          "execution_count": 63
        }
      ]
    },
    {
      "cell_type": "markdown",
      "source": [
        "A† is the pseudoinverse. \n",
        "\n",
        "Now we can solve the linear equation for x:\n",
        "\n",
        "AA† x = A† b"
      ],
      "metadata": {
        "id": "PYv3DvypMePo"
      }
    },
    {
      "cell_type": "code",
      "source": [
        "x = np.dot(Adag, b)\n",
        "x"
      ],
      "metadata": {
        "colab": {
          "base_uri": "https://localhost:8080/"
        },
        "id": "2N0fSRxb-tAT",
        "outputId": "96013891-a17c-4193-94de-667abc0c2a81"
      },
      "execution_count": null,
      "outputs": [
        {
          "output_type": "execute_result",
          "data": {
            "text/plain": [
              "array([[2.4939044 ],\n",
              "       [1.05497328],\n",
              "       [1.75830236],\n",
              "       [2.24315858]])"
            ]
          },
          "metadata": {},
          "execution_count": 64
        }
      ]
    },
    {
      "cell_type": "markdown",
      "source": [
        "## Optimizing the objective\n",
        "\n",
        "Since we have values for x1 and x2, we can now substitute these values into the objective and receive the optimized cost."
      ],
      "metadata": {
        "id": "2tbAIIp7GF8j"
      }
    },
    {
      "cell_type": "code",
      "source": [
        "cost = np.dot(A[0], x)[0]\n",
        "\n",
        "print(\"Cost: \" + str(cost) + \", when\")\n",
        "i = 1\n",
        "for v in x:\n",
        "  print(\"x\" + str(i) + \" = \" + str(v[0]))\n",
        "  i+=1"
      ],
      "metadata": {
        "colab": {
          "base_uri": "https://localhost:8080/"
        },
        "id": "kPHQfQI8NljL",
        "outputId": "a5116934-1c1b-4184-eb0c-475699daa8f7"
      },
      "execution_count": null,
      "outputs": [
        {
          "output_type": "stream",
          "name": "stdout",
          "text": [
            "Cost: -0.999653656525371, when\n",
            "x1 = 2.4939044026875252\n",
            "x2 = 1.054973279923544\n",
            "x3 = 1.7583023608241501\n",
            "x4 = 2.2431585834331664\n"
          ]
        }
      ]
    },
    {
      "cell_type": "markdown",
      "source": [
        "### Check against final constraints\n",
        "\n",
        "At this point it is necessary to check against the final constraints to ensure the solution is feasible.\n",
        "\n",
        "Usually this will look like x1, x2 ≥ 0\n",
        "\n",
        "With the Simplex method, we also need to add the additional slack variables such that:\n",
        "\n",
        "x1, x2, u, v, ... ≥ 0"
      ],
      "metadata": {
        "id": "DG-QOtmY2oZ2"
      }
    },
    {
      "cell_type": "code",
      "source": [
        "flag = False\n",
        "for v in range(1, len(x)):\n",
        "  if(x[v] < 0):\n",
        "    flag = True\n",
        "    print(\"The solution is infeasible.\")\n",
        "    break\n",
        "\n",
        "if not flag:\n",
        "  print(\"Congrats! The solution is feasible!\")"
      ],
      "metadata": {
        "colab": {
          "base_uri": "https://localhost:8080/"
        },
        "id": "R2yAwPEk1JjC",
        "outputId": "cdf8dd15-0924-4351-e228-9723385a3de0"
      },
      "execution_count": null,
      "outputs": [
        {
          "output_type": "stream",
          "name": "stdout",
          "text": [
            "Congrats! The solution is feasible!\n"
          ]
        }
      ]
    },
    {
      "cell_type": "code",
      "source": [
        ""
      ],
      "metadata": {
        "id": "MAowI_MW37Wo"
      },
      "execution_count": null,
      "outputs": []
    }
  ]
}
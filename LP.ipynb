{
  "nbformat": 4,
  "nbformat_minor": 0,
  "metadata": {
    "colab": {
      "name": "LP.ipynb",
      "provenance": [],
      "collapsed_sections": [],
      "toc_visible": true,
      "authorship_tag": "ABX9TyO+JfsTNsRyJxPTyDPpny3G",
      "include_colab_link": true
    },
    "kernelspec": {
      "name": "python3",
      "display_name": "Python 3"
    },
    "language_info": {
      "name": "python"
    }
  },
  "cells": [
    {
      "cell_type": "markdown",
      "metadata": {
        "id": "view-in-github",
        "colab_type": "text"
      },
      "source": [
        "<a href=\"https://colab.research.google.com/github/zanzivyr/Optimizers/blob/main/LP.ipynb\" target=\"_parent\"><img src=\"https://colab.research.google.com/assets/colab-badge.svg\" alt=\"Open In Colab\"/></a>"
      ]
    },
    {
      "cell_type": "markdown",
      "source": [
        "# Linear Programming\n",
        "\n",
        "Today we will continue our study of optimization with a brief overview of Linear Programming."
      ],
      "metadata": {
        "id": "AdfumdnuQbsy"
      }
    },
    {
      "cell_type": "markdown",
      "source": [
        "## Resources\n",
        "\n",
        "These are resources I used to learn about Linear Programming:\n",
        "\n",
        "- The Organic Chemistry Tutor - https://youtu.be/Bzzqx1F23a8\n",
        "- Meghan de Witt - https://youtu.be/rzRZLGD_aeE\n",
        "- Wikipedia - https://en.wikipedia.org/wiki/Linear_programming\n",
        "- Timeparticle - https://www.youtube.com/watch?v=5bxsxM2UTb4\n",
        "- Geeks for Geeks - https://www.geeksforgeeks.org/singular-value-decomposition-svd/\n",
        "- Section.io - https://www.section.io/engineering-education/moore-penrose-pseudoinverse/\n",
        "- Jon Krohn - https://youtu.be/vXk-o3PVUdU"
      ],
      "metadata": {
        "id": "1xKoG0I9Plj7"
      }
    },
    {
      "cell_type": "code",
      "execution_count": 16,
      "metadata": {
        "id": "YUYRt-IloUUx"
      },
      "outputs": [],
      "source": [
        "import numpy as np\n",
        "import matplotlib.pyplot as plt\n",
        "import tensorflow as tf"
      ]
    },
    {
      "cell_type": "markdown",
      "source": [
        "## Instantiate\n",
        "\n",
        "First we'll create a LP with an objective function and 2 constraint inequalities as a matrix.\n",
        "\n",
        "We can use random integer values for the coefficients.\n",
        "\n",
        "The A matrix shall be constructed as:\n",
        "\n",
        "1. **Row 1** = coefficients of the **objective**\n",
        "2. **Row 2+** = coefficients of the **constraints**\n",
        "3. **Column vector b** = solutions to the objective and constraints"
      ],
      "metadata": {
        "id": "sLCehYaCzi1F"
      }
    },
    {
      "cell_type": "markdown",
      "source": [
        "### Augmentations\n",
        "\n",
        "We're also going to augment the objective and constraints.\n",
        "\n",
        "By adding \"slack\" variables to the constraints (one per constraint) we can convert the inequality to an equality. (Basically, by having another term, we can guarantee that the equation will become equal... it's a stop gap) Then when checking that the solutions to the variables meet the final constraint, we can say if our solution is feasible, or unfeasible.\n",
        "\n",
        "**Note**: The objective row should have zeroes for the slack variables.\n",
        "\n",
        "This is called the Simplex Method"
      ],
      "metadata": {
        "id": "2CZR0iBJzo2r"
      }
    },
    {
      "cell_type": "code",
      "source": [
        "A = tf.random.normal(\n",
        "    shape=[3,2],\n",
        "    mean=0,\n",
        "    stddev=1,\n",
        "    dtype=tf.dtypes.float32,\n",
        "    seed=42,\n",
        "    name=None\n",
        ")\n",
        "eye = tf.constant([[0,0],[1,0],[0,1]], dtype=tf.dtypes.float32)\n",
        "b = tf.random.normal(\n",
        "    shape=[3,1],\n",
        "    mean=0,\n",
        "    stddev=1,\n",
        "    dtype=tf.dtypes.float32,\n",
        "    seed=42,\n",
        "    name=None\n",
        ")\n",
        "A = tf.concat([A, eye], 1)\n",
        "A, b"
      ],
      "metadata": {
        "colab": {
          "base_uri": "https://localhost:8080/"
        },
        "id": "Q2AvzeJv0Dzn",
        "outputId": "ec712601-452c-4e9b-c9ec-abe4c863f2d9"
      },
      "execution_count": 17,
      "outputs": [
        {
          "output_type": "execute_result",
          "data": {
            "text/plain": [
              "(<tf.Tensor: shape=(3, 4), dtype=float32, numpy=\n",
              " array([[ 1.2180098 , -0.39854664,  0.        ,  0.        ],\n",
              "        [ 0.63967335, -0.63211644,  1.        ,  0.        ],\n",
              "        [-1.8190719 , -0.9362425 ,  0.        ,  1.        ]],\n",
              "       dtype=float32)>, <tf.Tensor: shape=(3, 1), dtype=float32, numpy=\n",
              " array([[ 0.23851669],\n",
              "        [-0.7702351 ],\n",
              "        [-0.99450314]], dtype=float32)>)"
            ]
          },
          "metadata": {},
          "execution_count": 17
        }
      ]
    },
    {
      "cell_type": "markdown",
      "source": [
        "## Singular Value Decomposition (SVD)\n",
        "\n",
        "Use the Singular Value Decomposition to find the Moore-Penrose Pseudoinverse"
      ],
      "metadata": {
        "id": "E9qagcQt1OEm"
      }
    },
    {
      "cell_type": "code",
      "source": [
        "# SVD\n",
        "u, s, vt = np.linalg.svd(A, full_matrices=True)\n",
        "u, s, vt"
      ],
      "metadata": {
        "colab": {
          "base_uri": "https://localhost:8080/"
        },
        "id": "kBZJW0gx5Rec",
        "outputId": "1cfee80d-d951-431d-d609-018bcd4c04ca"
      },
      "execution_count": 18,
      "outputs": [
        {
          "output_type": "execute_result",
          "data": {
            "text/plain": [
              "(array([[-0.40928856, -0.39557117, -0.82219607],\n",
              "        [-0.21294492, -0.83483064,  0.5076537 ],\n",
              "        [ 0.8872076 , -0.38285932, -0.25745174]], dtype=float32),\n",
              " array([2.484513 , 1.4265596, 0.6548556], dtype=float32),\n",
              " array([[-0.9050575 , -0.21449472, -0.08570892,  0.35709518],\n",
              "        [-0.2238812 ,  0.73169947, -0.58520555, -0.26837948],\n",
              "        [-0.31821835,  0.37844145,  0.77521473, -0.3931428 ],\n",
              "        [ 0.1717127 ,  0.5247761 ,  0.22187957,  0.8036755 ]],\n",
              "       dtype=float32))"
            ]
          },
          "metadata": {},
          "execution_count": 18
        }
      ]
    },
    {
      "cell_type": "markdown",
      "source": [
        "### SVD Inverse\n",
        "\n",
        "Using the SVD, we can now invert the matrix"
      ],
      "metadata": {
        "id": "4-u-PLh8LxRw"
      }
    },
    {
      "cell_type": "code",
      "source": [
        "# Moore-Penrose Pseudo Inverse\n",
        "vtt = np.transpose(vt)\n",
        "s = np.linalg.inv(np.diag(s))\n",
        "ut = np.transpose(u)\n",
        "\n",
        "vtt.shape, s.shape, ut.shape"
      ],
      "metadata": {
        "colab": {
          "base_uri": "https://localhost:8080/"
        },
        "id": "PXzQszxq5kLG",
        "outputId": "8444fe64-f6f0-472a-8de4-b71969173011"
      },
      "execution_count": 19,
      "outputs": [
        {
          "output_type": "execute_result",
          "data": {
            "text/plain": [
              "((4, 4), (3, 3), (3, 3))"
            ]
          },
          "metadata": {},
          "execution_count": 19
        }
      ]
    },
    {
      "cell_type": "markdown",
      "source": [
        "Σ transpose needs to be the same dimensions as A.\n",
        "\n",
        "We can concatenate on another column if A is overdetermined or row if A is underdetermined."
      ],
      "metadata": {
        "id": "0KxCiHsJL9Uz"
      }
    },
    {
      "cell_type": "code",
      "source": [
        "# Overdetermined\n",
        "# Concat extra column of zeroes\n",
        "if A.shape[0] > A.shape[1]:\n",
        "  print(\"Overdetermined\")\n",
        "  sinv = np.concatenate(\n",
        "      (\n",
        "          s, \n",
        "          tf.zeros([s.shape[0], 1], tf.float32)\n",
        "      ), \n",
        "      axis=1\n",
        "  )\n",
        "# Underdetermined\n",
        "# Concat extra row of zeroes\n",
        "elif A.shape[0] < A.shape[1]:\n",
        "  print(\"Underdetermined\")\n",
        "  sinv = np.concatenate(\n",
        "      (\n",
        "          s, \n",
        "          tf.zeros([1, s.shape[1]], tf.float32)\n",
        "      ), \n",
        "      axis=0\n",
        "  )\n",
        "else:\n",
        "  sinv = s\n",
        "\n",
        "sinv.shape"
      ],
      "metadata": {
        "colab": {
          "base_uri": "https://localhost:8080/"
        },
        "id": "e0YgVzBVJtTs",
        "outputId": "1d5657e5-202d-4f47-f00b-eaf6d313d91c"
      },
      "execution_count": 20,
      "outputs": [
        {
          "output_type": "stream",
          "name": "stdout",
          "text": [
            "Underdetermined\n"
          ]
        },
        {
          "output_type": "execute_result",
          "data": {
            "text/plain": [
              "(4, 3)"
            ]
          },
          "metadata": {},
          "execution_count": 20
        }
      ]
    },
    {
      "cell_type": "markdown",
      "source": [
        "## Moore-Penrose Pseudoinverse\n",
        "\n",
        "Now we can find A dagger:\n",
        "\n",
        "A† = VTᵀ Σ Uᵀ"
      ],
      "metadata": {
        "id": "QXmIZ0P6MXI3"
      }
    },
    {
      "cell_type": "code",
      "source": [
        "Adag = np.dot(vtt, np.dot(sinv, ut))\n",
        "Adag"
      ],
      "metadata": {
        "colab": {
          "base_uri": "https://localhost:8080/"
        },
        "id": "GoXzbQip6Xsx",
        "outputId": "73ad3c48-0e54-4ae9-d946-13bc92bbd72c"
      },
      "execution_count": 21,
      "outputs": [
        {
          "output_type": "execute_result",
          "data": {
            "text/plain": [
              "array([[ 0.6107108 , -0.03809952, -0.13800131],\n",
              "       [-0.64270586, -0.11643712, -0.42174965],\n",
              "       [-0.79692036,  0.9507695 , -0.17831913],\n",
              "       [ 0.50919837, -0.17831914,  0.35410577]], dtype=float32)"
            ]
          },
          "metadata": {},
          "execution_count": 21
        }
      ]
    },
    {
      "cell_type": "markdown",
      "source": [
        "A† is the pseudoinverse. \n",
        "\n",
        "Now we can solve the linear equation for x:\n",
        "\n",
        "AA† x = A† b"
      ],
      "metadata": {
        "id": "PYv3DvypMePo"
      }
    },
    {
      "cell_type": "code",
      "source": [
        "x = np.dot(Adag, b)\n",
        "x"
      ],
      "metadata": {
        "colab": {
          "base_uri": "https://localhost:8080/"
        },
        "id": "2N0fSRxb-tAT",
        "outputId": "e43e7b8a-923d-4291-e4a6-a7bafdc47687"
      },
      "execution_count": 22,
      "outputs": [
        {
          "output_type": "execute_result",
          "data": {
            "text/plain": [
              "array([[ 0.31225306],\n",
              "       [ 0.35581926],\n",
              "       [-0.7450559 ],\n",
              "       [-0.09335932]], dtype=float32)"
            ]
          },
          "metadata": {},
          "execution_count": 22
        }
      ]
    },
    {
      "cell_type": "markdown",
      "source": [
        "## Optimizing the objective\n",
        "\n",
        "Since we have values for x1 and x2, we can now substitute these values into the objective and receive the optimized cost."
      ],
      "metadata": {
        "id": "2tbAIIp7GF8j"
      }
    },
    {
      "cell_type": "code",
      "source": [
        "cost = np.dot(A[0], x)[0]\n",
        "\n",
        "print(\"Cost: \" + str(cost) + \", when\")\n",
        "i = 1\n",
        "for v in x:\n",
        "  print(\"x\" + str(i) + \" = \" + str(v[0]))\n",
        "  i+=1"
      ],
      "metadata": {
        "colab": {
          "base_uri": "https://localhost:8080/"
        },
        "id": "kPHQfQI8NljL",
        "outputId": "9f90abb5-1986-43e9-a2f4-41bc81e0f510"
      },
      "execution_count": 23,
      "outputs": [
        {
          "output_type": "stream",
          "name": "stdout",
          "text": [
            "Cost: 0.23851672, when\n",
            "x1 = 0.31225306\n",
            "x2 = 0.35581926\n",
            "x3 = -0.7450559\n",
            "x4 = -0.09335932\n"
          ]
        }
      ]
    },
    {
      "cell_type": "markdown",
      "source": [
        "### Check against final constraints\n",
        "\n",
        "At this point it is necessary to check against the final constraints to ensure the solution is feasible.\n",
        "\n",
        "Usually this will look like x1, x2 ≥ 0\n",
        "\n",
        "With the Simplex method, we also need to add the additional slack variables such that:\n",
        "\n",
        "x1, x2, u, v, ... ≥ 0"
      ],
      "metadata": {
        "id": "DG-QOtmY2oZ2"
      }
    },
    {
      "cell_type": "code",
      "source": [
        "flag = False\n",
        "for v in range(1, len(x)):\n",
        "  if(x[v] < 0):\n",
        "    flag = True\n",
        "    print(\"The solution is infeasible.\")\n",
        "    break\n",
        "\n",
        "if not flag:\n",
        "  print(\"Congrats! The solution is feasible!\")"
      ],
      "metadata": {
        "colab": {
          "base_uri": "https://localhost:8080/"
        },
        "id": "R2yAwPEk1JjC",
        "outputId": "323ed076-4f8f-4426-ad74-ac2cefefeef4"
      },
      "execution_count": 24,
      "outputs": [
        {
          "output_type": "stream",
          "name": "stdout",
          "text": [
            "The solution is infeasible.\n"
          ]
        }
      ]
    },
    {
      "cell_type": "code",
      "source": [
        ""
      ],
      "metadata": {
        "id": "MAowI_MW37Wo"
      },
      "execution_count": 24,
      "outputs": []
    }
  ]
}
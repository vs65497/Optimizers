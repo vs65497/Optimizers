{
  "nbformat": 4,
  "nbformat_minor": 0,
  "metadata": {
    "colab": {
      "name": "AlgebraicRiccatiEquation.ipynb",
      "provenance": [],
      "toc_visible": true,
      "authorship_tag": "ABX9TyPXH2jTyTrtQV7eQlUqg1ki",
      "include_colab_link": true
    },
    "kernelspec": {
      "name": "python3",
      "display_name": "Python 3"
    },
    "language_info": {
      "name": "python"
    }
  },
  "cells": [
    {
      "cell_type": "markdown",
      "metadata": {
        "id": "view-in-github",
        "colab_type": "text"
      },
      "source": [
        "<a href=\"https://colab.research.google.com/github/zanzivyr/Optimizers/blob/main/AlgebraicRiccatiEquation.ipynb\" target=\"_parent\"><img src=\"https://colab.research.google.com/assets/colab-badge.svg\" alt=\"Open In Colab\"/></a>"
      ]
    },
    {
      "cell_type": "markdown",
      "source": [
        "# Continuous Algebraic Riccati Equation (C.A.R.E.)\n",
        "\n",
        "This is important for Control Theory. Solving this allows us to find an optimal closed-loop control gain for a system using LQR.\n",
        "\n"
      ],
      "metadata": {
        "id": "XHcFohIWs3HZ"
      }
    },
    {
      "cell_type": "markdown",
      "source": [
        "## Conditions\n",
        "\n",
        "1. Given an affine linear state-space system:\n",
        "  - ẋ = Ax + Bu\n",
        "  - y = Cx + Du\n",
        "  - u = -Kx (Closed-loop control law)\n",
        "2. The system must be Controllable and Observable.\n",
        "  - Ctrb if rank([ B AB A^2B ... A^(n-1)B ]) = n\n",
        "  - Obsrv if rank([ C CA CA^2 ... CA^(n-1) ]ᵀ) = n\n",
        "3. Quadratic Programming \n",
        "  - min u(.) ∫(0->inf) xᵀQx + uᵀRu dt\n",
        "  - subject to ẋ = Ax + Bu and x(0) = x_init\n",
        "  - (*Important*: This is an infinite horizon problem)\n",
        "4. Q is positive semidefinite, R is positive definite\n",
        "\n",
        "If these conditions are true then:\n",
        "\n",
        "There exists an unique P (positive definite) which solves the C.A.R.E. and gives rise to gain K."
      ],
      "metadata": {
        "id": "392WL4UUVt2R"
      }
    },
    {
      "cell_type": "markdown",
      "source": [
        "## Procedure\n",
        "\n",
        "Using the Hamiltonian or Schur Method, execute the following:\n",
        "\n",
        "1. Create an Hamiltonian matrix\n",
        "2. Solve the eigenvalue problem, giving U\n",
        "3. Check that u11 can be inverted\n",
        "4. Check that P = u21*inv(u11) is positive definite\n",
        "5. Multiply"
      ],
      "metadata": {
        "id": "mXMykhjpVBaI"
      }
    },
    {
      "cell_type": "markdown",
      "source": [
        "# Resources\n",
        "\n",
        "- Hamiltonian Matrix Method, Adwait Datar - https://www.youtube.com/watch?v=PKjl0kCMJ0g&t=637s\n",
        "- Hamiltonian Matrix, Wikipedia - https://en.wikipedia.org/wiki/Hamiltonian_matrix\n",
        "- Schur Method - https://math.stackexchange.com/questions/2504408/solving-continuous-algebraic-riccati-equation-using-generalized-eigenproblem-alg\n",
        "- Generalized  Eigenproblem  Algorithms and  Software  for  Algebraic  Riccati Equations - https://engineering.purdue.edu/AAECourses/aae564/2008/fall/Notes/ArnoldLaub1984\n",
        "- Tests for Positive Definiteness of a Matrix - https://www.gaussianwaves.com/2013/04/tests-for-positive-definiteness-of-a-matrix/\n",
        "- Find out if matrix is positive definite with numpy - https://stackoverflow.com/questions/16266720/find-out-if-matrix-is-positive-definite-with-numpy"
      ],
      "metadata": {
        "id": "8cI0lCUzuQw0"
      }
    },
    {
      "cell_type": "code",
      "source": [
        "import numpy as np\n",
        "from numpy import linalg as LA\n",
        "import tensorflow as tf"
      ],
      "metadata": {
        "id": "33gRViZ_1WI7"
      },
      "execution_count": 97,
      "outputs": []
    },
    {
      "cell_type": "markdown",
      "source": [
        "# Instantiate"
      ],
      "metadata": {
        "id": "wFOptJzhV1Tg"
      }
    },
    {
      "cell_type": "code",
      "source": [
        "n = 2\n",
        "size = 10\n",
        "\n",
        "A = tf.constant([1.,2.,3.,4.], shape=[n,n])\n",
        "B = tf.constant([1.,0.], shape=[n,1])\n",
        "C = tf.constant([1.,0.], shape=[1,n])\n",
        "Q = np.dot(np.transpose(C), C)\n",
        "R = np.eye(1)\n",
        "\n",
        "A,B,C,Q,R"
      ],
      "metadata": {
        "colab": {
          "base_uri": "https://localhost:8080/"
        },
        "id": "NK5_YKk48KJd",
        "outputId": "2074e920-9352-4fc7-f8ab-9e91f20415e8"
      },
      "execution_count": 106,
      "outputs": [
        {
          "output_type": "execute_result",
          "data": {
            "text/plain": [
              "(<tf.Tensor: shape=(2, 2), dtype=float32, numpy=\n",
              " array([[1., 2.],\n",
              "        [3., 4.]], dtype=float32)>,\n",
              " <tf.Tensor: shape=(2, 1), dtype=float32, numpy=\n",
              " array([[1.],\n",
              "        [0.]], dtype=float32)>,\n",
              " <tf.Tensor: shape=(1, 2), dtype=float32, numpy=array([[1., 0.]], dtype=float32)>,\n",
              " array([[1., 0.],\n",
              "        [0., 0.]], dtype=float32),\n",
              " array([[1.]]))"
            ]
          },
          "metadata": {},
          "execution_count": 106
        }
      ]
    },
    {
      "cell_type": "markdown",
      "source": [
        "## Check Controllability and Observability\n",
        "\n",
        "We can see that the rank of the controllability and observability matrices equals n, so they pass these checks."
      ],
      "metadata": {
        "id": "D_ziqfiIbLVT"
      }
    },
    {
      "cell_type": "code",
      "source": [
        "ctrb = np.array([B, np.dot(A,B)])\n",
        "obsr = np.transpose(np.array([C, np.dot(C,A)]))\n",
        "n, LA.matrix_rank(ctrb.reshape((n,n))), LA.matrix_rank(obsr.reshape(n,n))"
      ],
      "metadata": {
        "colab": {
          "base_uri": "https://localhost:8080/"
        },
        "id": "l6HOxMPoY3Dl",
        "outputId": "942b4c36-4915-4466-b7cd-58fe8a3e8aa1"
      },
      "execution_count": 125,
      "outputs": [
        {
          "output_type": "execute_result",
          "data": {
            "text/plain": [
              "(2, 2, 2)"
            ]
          },
          "metadata": {},
          "execution_count": 125
        }
      ]
    },
    {
      "cell_type": "markdown",
      "source": [
        "# 1. Create Hamiltonian Matrix"
      ],
      "metadata": {
        "id": "r9_ntWCIV6P5"
      }
    },
    {
      "cell_type": "code",
      "source": [
        "H11 = A\n",
        "H12 = -np.dot(B, np.dot(LA.inv(R), np.transpose(B)))\n",
        "H21 = -Q\n",
        "H22 = -np.transpose(A)\n",
        "\n",
        "H = np.array([H11, H12, H21, H22]).reshape(2*n, 2*n)\n",
        "H"
      ],
      "metadata": {
        "colab": {
          "base_uri": "https://localhost:8080/"
        },
        "id": "IZV0Fqww85Fn",
        "outputId": "c225c27c-a2d3-4e72-f1b6-780b41ea9cfe"
      },
      "execution_count": 99,
      "outputs": [
        {
          "output_type": "execute_result",
          "data": {
            "text/plain": [
              "array([[ 1.,  2.,  3.,  4.],\n",
              "       [-1., -0., -0., -0.],\n",
              "       [-1., -0., -0., -0.],\n",
              "       [-1., -3., -2., -4.]])"
            ]
          },
          "metadata": {},
          "execution_count": 99
        }
      ]
    },
    {
      "cell_type": "markdown",
      "source": [
        "# 2. Solve the Eigenvalue Problem\n",
        "\n",
        "Solve the Eigenvalue Problem using Schur Decomposition."
      ],
      "metadata": {
        "id": "zJ5OBCU6V_pB"
      }
    },
    {
      "cell_type": "code",
      "source": [
        "w, vset = LA.eig(H)\n",
        "vectors = vset.shape[0]\n",
        "size = vset.shape[1]\n",
        "vset"
      ],
      "metadata": {
        "colab": {
          "base_uri": "https://localhost:8080/"
        },
        "id": "GIln3zS6Ksjs",
        "outputId": "8cec5eb5-2b10-41ff-ed85-becf48ca5549"
      },
      "execution_count": 100,
      "outputs": [
        {
          "output_type": "execute_result",
          "data": {
            "text/plain": [
              "array([[ 6.45497224e-01+0.00000000e+00j,  6.45497224e-01-0.00000000e+00j,\n",
              "        -3.20418736e-17+8.04819731e-09j, -3.20418736e-17-8.04819731e-09j],\n",
              "       [ 1.93649167e-01+2.14087210e-01j,  1.93649167e-01-2.14087210e-01j,\n",
              "        -5.29812943e-01-7.64578745e-09j, -5.29812943e-01+7.64578745e-09j],\n",
              "       [ 1.93649167e-01+2.14087210e-01j,  1.93649167e-01-2.14087210e-01j,\n",
              "        -5.29812943e-01+2.41445919e-09j, -5.29812943e-01-2.41445919e-09j],\n",
              "       [-6.45497224e-01+1.82560691e-17j, -6.45497224e-01-1.82560691e-17j,\n",
              "         6.62266179e-01+0.00000000e+00j,  6.62266179e-01-0.00000000e+00j]])"
            ]
          },
          "metadata": {},
          "execution_count": 100
        }
      ]
    },
    {
      "cell_type": "code",
      "source": [
        "basis = vset[0]\n",
        "\n",
        "for v in range(1, vectors):\n",
        "  vec = vset[v]\n",
        "\n",
        "  sum = 0\n",
        "  for u in range(1, v+1):\n",
        "    uvec = vset[u]\n",
        "    sum += np.dot((np.dot(uvec, vec) / np.dot(uvec, uvec)), uvec)\n",
        "\n",
        "  b = vec - sum\n",
        "  basis = tf.concat([basis, b], 0)\n",
        "\n",
        "basis = tf.reshape(basis, (vectors,size), name=None)\n",
        "basis"
      ],
      "metadata": {
        "colab": {
          "base_uri": "https://localhost:8080/"
        },
        "id": "84kM31KEMIdY",
        "outputId": "6d929467-7ce1-49f7-eae1-419b39f82ba3"
      },
      "execution_count": 101,
      "outputs": [
        {
          "output_type": "execute_result",
          "data": {
            "text/plain": [
              "<tf.Tensor: shape=(4, 4), dtype=complex128, numpy=\n",
              "array([[ 6.45497224e-01+0.00000000e+00j,  6.45497224e-01-0.00000000e+00j,\n",
              "        -3.20418736e-17+8.04819731e-09j, -3.20418736e-17-8.04819731e-09j],\n",
              "       [ 0.00000000e+00+0.00000000e+00j,  0.00000000e+00+0.00000000e+00j,\n",
              "         0.00000000e+00+0.00000000e+00j,  0.00000000e+00+0.00000000e+00j],\n",
              "       [-1.93649167e-01-2.14087210e-01j, -1.93649167e-01+2.14087210e-01j,\n",
              "         5.29812943e-01+7.64578745e-09j,  5.29812943e-01-7.64578745e-09j],\n",
              "       [ 6.76680665e-01+7.48098623e-01j,  6.76680665e-01-7.48098623e-01j,\n",
              "        -1.85135924e+00-9.14008237e-09j, -1.85135924e+00+9.14008237e-09j]])>"
            ]
          },
          "metadata": {},
          "execution_count": 101
        }
      ]
    },
    {
      "cell_type": "code",
      "source": [
        "ortho = 0\n",
        "\n",
        "if LA.norm(basis[0]) != 0:\n",
        "  ortho = tf.math.multiply(basis[0], 1/LA.norm(basis[0]))\n",
        "else:\n",
        "  ortho = tf.zeros(size, dtype=tf.complex128)\n",
        "\n",
        "for v in range(1, vectors):\n",
        "  if LA.norm(basis[v]) != 0:\n",
        "    o = tf.math.multiply(basis[v], 1/LA.norm(basis[v]))\n",
        "  else:\n",
        "    o = tf.zeros(size, dtype=tf.complex128)\n",
        "    \n",
        "  ortho = tf.concat([ortho, o], 0)\n",
        "\n",
        "ortho = tf.reshape(ortho, (vectors,size), name=None)\n",
        "ortho"
      ],
      "metadata": {
        "colab": {
          "base_uri": "https://localhost:8080/"
        },
        "id": "1jkdKsGiMNB2",
        "outputId": "870efe28-3f11-4e2d-f85a-d9d53c136161"
      },
      "execution_count": 102,
      "outputs": [
        {
          "output_type": "execute_result",
          "data": {
            "text/plain": [
              "<tf.Tensor: shape=(4, 4), dtype=complex128, numpy=\n",
              "array([[ 7.07106781e-01+0.00000000e+00j,  7.07106781e-01+0.00000000e+00j,\n",
              "        -3.51001139e-17+8.81635843e-09j, -3.51001139e-17-8.81635843e-09j],\n",
              "       [ 0.00000000e+00+0.00000000e+00j,  0.00000000e+00+0.00000000e+00j,\n",
              "         0.00000000e+00+0.00000000e+00j,  0.00000000e+00+0.00000000e+00j],\n",
              "       [-2.26949387e-01-2.50901987e-01j, -2.26949387e-01+2.50901987e-01j,\n",
              "         6.20920421e-01+8.96056924e-09j,  6.20920421e-01-8.96056924e-09j],\n",
              "       [ 2.26949387e-01+2.50901987e-01j,  2.26949387e-01-2.50901987e-01j,\n",
              "        -6.20920421e-01-3.06545790e-09j, -6.20920421e-01+3.06545790e-09j]])>"
            ]
          },
          "metadata": {},
          "execution_count": 102
        }
      ]
    },
    {
      "cell_type": "markdown",
      "source": [
        "# 3. Check that u11 can be inverted"
      ],
      "metadata": {
        "id": "7e2gErigWlvi"
      }
    },
    {
      "cell_type": "code",
      "source": [
        "U = ortho\n",
        "\n",
        "try:\n",
        "  u11inv = LA.inv(tf.reshape(U[0], [n,n]))\n",
        "  u21 = tf.reshape(U[2], [n,n])\n",
        "  P = np.dot(u21, u11inv)\n",
        "\n",
        "  P\n",
        "except:\n",
        "  print(\"Infeasible! U11 is not invertible\")"
      ],
      "metadata": {
        "id": "uIHsz2vgNVxU"
      },
      "execution_count": 107,
      "outputs": []
    },
    {
      "cell_type": "markdown",
      "source": [
        "# 4. Check that P is positive definite\n",
        "\n",
        "If so, multiply!"
      ],
      "metadata": {
        "id": "fmNYlXlRWJBS"
      }
    },
    {
      "cell_type": "code",
      "source": [
        "# Check that P is positive definite\n",
        "if np.all(np.linalg.eigvals(P) > 0):\n",
        "  Kstar = -np.dot(LA.inv(R), np.dot(np.transpose(B), P))\n",
        "\n",
        "  print(\"Optimal gain K_star is: \" + str(K))\n",
        "\n",
        "else:\n",
        "  print(\"P is not positive definite, therefore there is no optimal gain.\")"
      ],
      "metadata": {
        "colab": {
          "base_uri": "https://localhost:8080/"
        },
        "id": "PIY75BJyE6Aj",
        "outputId": "c1aa1acf-0c99-4153-b3c3-0c9996dbaafc"
      },
      "execution_count": 109,
      "outputs": [
        {
          "output_type": "stream",
          "name": "stdout",
          "text": [
            "Optimal gain K_star is: [[3.20954902e-01+7.39143466e-18j 2.84586873e+07-9.08498292e-10j]]\n"
          ]
        }
      ]
    },
    {
      "cell_type": "markdown",
      "source": [
        "## K⋆ is not necessarily optimal\n",
        "\n",
        "In this example, K⋆ is not necessarily optimal because we did not solve the QP. U will need to be stepped towards the optimal value using Newton's Method. \n",
        "\n",
        "However, as we saw in the previous study on QP's, Automatic Differentiation is required to complete the QP.\n",
        "\n",
        "In the future I may attempt Automatic Differentiation, but for now we will conclude this study."
      ],
      "metadata": {
        "id": "_8Y802nEXDJi"
      }
    },
    {
      "cell_type": "code",
      "source": [
        ""
      ],
      "metadata": {
        "id": "WGs2TjfgX5qk"
      },
      "execution_count": null,
      "outputs": []
    }
  ]
}